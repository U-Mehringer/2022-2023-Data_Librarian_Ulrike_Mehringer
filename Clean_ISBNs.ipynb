{
 "cells": [
  {
   "cell_type": "code",
   "execution_count": 1,
   "id": "ef9f929b",
   "metadata": {},
   "outputs": [],
   "source": [
    "dirty_isbns = [\n",
    "    \" ISBN 978-3-518-58773-7 \", \n",
    "    \"ISBN___978-1491946008 \",\n",
    "    \"ISBN 978-1593276034\"]"
   ]
  },
  {
   "cell_type": "code",
   "execution_count": 4,
   "id": "20fad50a",
   "metadata": {},
   "outputs": [
    {
     "name": "stdout",
     "output_type": "stream",
     "text": [
      " ISBN 978-3-518-58773-7 \n"
     ]
    }
   ],
   "source": [
    "# Funktion definieren\n",
    "def clean_isbn():\n",
    "    isbn = \" ISBN 978-3-518-58773-7 \"\n",
    "    print(isbn)\n",
    "\n",
    "# Funktion aufrufen\n",
    "clean_isbn()\n",
    "    "
   ]
  },
  {
   "cell_type": "code",
   "execution_count": 7,
   "id": "1acd4a15",
   "metadata": {},
   "outputs": [],
   "source": [
    "def clean_isbn():\n",
    "    isbn = \" ISBN 978-3-518-58773-7 \"\n",
    "    isbn = isbn.replace(\"ISBN\", \"\")\n",
    "    isbn = isbn.strip()\n",
    "    print(isbn)"
   ]
  },
  {
   "cell_type": "code",
   "execution_count": 12,
   "id": "dd737dcd",
   "metadata": {},
   "outputs": [
    {
     "name": "stdout",
     "output_type": "stream",
     "text": [
      "9783-2343-5675-3\n"
     ]
    }
   ],
   "source": [
    "def clean_isbn(isbn):\n",
    "    isbn = isbn.replace(\"ISBN\", \"\")\n",
    "    isbn = isbn.strip()\n",
    "    print(isbn)\n",
    "clean_isbn(\" ISBN 9783-2343-5675-3  \")"
   ]
  },
  {
   "cell_type": "code",
   "execution_count": 8,
   "id": "f7b54ddb",
   "metadata": {},
   "outputs": [
    {
     "name": "stdout",
     "output_type": "stream",
     "text": [
      "978-3-518-58773-7\n"
     ]
    }
   ],
   "source": [
    "clean_isbn()"
   ]
  },
  {
   "cell_type": "code",
   "execution_count": 1,
   "id": "6ec9ff07",
   "metadata": {},
   "outputs": [
    {
     "name": "stdout",
     "output_type": "stream",
     "text": [
      "978-3-518-58773-7\n",
      "978-1491946008\n",
      "978-1593276034\n"
     ]
    }
   ],
   "source": [
    "dirty_isbns = [\n",
    "    \" ISBN 978-3-518-58773-7 \", \n",
    "    \"ISBN___978-1491946008 \",\n",
    "    \"ISBN 978-1593276034\"]\n",
    "\n",
    "def clean_isbn(isbn):\n",
    "    isbn = isbn.replace(\"ISBN\", \"\")\n",
    "    isbn = isbn.replace(\"_\", \"\")\n",
    "    blub = isbn.strip()\n",
    "    return blub  # sorgt dafür, dass der Wert zurückgegeben wird\n",
    "\n",
    "for isbn in dirty_isbns:\n",
    "    print (clean_isbn(isbn))\n",
    "\n"
   ]
  },
  {
   "cell_type": "code",
   "execution_count": null,
   "id": "2c935bba",
   "metadata": {},
   "outputs": [],
   "source": []
  }
 ],
 "metadata": {
  "kernelspec": {
   "display_name": "Python 3 (ipykernel)",
   "language": "python",
   "name": "python3"
  },
  "language_info": {
   "codemirror_mode": {
    "name": "ipython",
    "version": 3
   },
   "file_extension": ".py",
   "mimetype": "text/x-python",
   "name": "python",
   "nbconvert_exporter": "python",
   "pygments_lexer": "ipython3",
   "version": "3.9.13"
  }
 },
 "nbformat": 4,
 "nbformat_minor": 5
}
