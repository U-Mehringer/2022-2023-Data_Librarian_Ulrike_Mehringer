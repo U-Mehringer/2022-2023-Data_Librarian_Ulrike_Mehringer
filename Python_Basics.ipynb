{
 "cells": [
  {
   "cell_type": "markdown",
   "id": "7de145be",
   "metadata": {},
   "source": [
    "# Python Einführung"
   ]
  },
  {
   "cell_type": "code",
   "execution_count": 1,
   "id": "57994e2b",
   "metadata": {},
   "outputs": [],
   "source": [
    "name = \"Lovelace\"\n",
    "age = 37\n",
    "size = 1.345"
   ]
  },
  {
   "cell_type": "markdown",
   "id": "2b70ce34",
   "metadata": {},
   "source": [
    "## Operatoren"
   ]
  },
  {
   "cell_type": "code",
   "execution_count": 2,
   "id": "6c26d223",
   "metadata": {},
   "outputs": [
    {
     "data": {
      "text/plain": [
       "10"
      ]
     },
     "execution_count": 2,
     "metadata": {},
     "output_type": "execute_result"
    }
   ],
   "source": [
    "5 + 5"
   ]
  },
  {
   "cell_type": "code",
   "execution_count": 3,
   "id": "2d0ea5a8",
   "metadata": {},
   "outputs": [
    {
     "data": {
      "text/plain": [
       "3700"
      ]
     },
     "execution_count": 3,
     "metadata": {},
     "output_type": "execute_result"
    }
   ],
   "source": [
    "age * 100"
   ]
  },
  {
   "cell_type": "code",
   "execution_count": 5,
   "id": "d8844824",
   "metadata": {},
   "outputs": [
    {
     "data": {
      "text/plain": [
       "'LovelaceLovelace'"
      ]
     },
     "execution_count": 5,
     "metadata": {},
     "output_type": "execute_result"
    }
   ],
   "source": [
    "name + name"
   ]
  },
  {
   "cell_type": "code",
   "execution_count": 6,
   "id": "0e4585fc",
   "metadata": {},
   "outputs": [
    {
     "data": {
      "text/plain": [
       "'LovelaceLovelaceLovelaceLovelaceLovelaceLovelaceLovelaceLovelaceLovelaceLovelace'"
      ]
     },
     "execution_count": 6,
     "metadata": {},
     "output_type": "execute_result"
    }
   ],
   "source": [
    "name * 10"
   ]
  },
  {
   "cell_type": "code",
   "execution_count": 7,
   "id": "94aee94d",
   "metadata": {},
   "outputs": [
    {
     "ename": "TypeError",
     "evalue": "can only concatenate str (not \"int\") to str",
     "output_type": "error",
     "traceback": [
      "\u001b[0;31m---------------------------------------------------------------------------\u001b[0m",
      "\u001b[0;31mTypeError\u001b[0m                                 Traceback (most recent call last)",
      "\u001b[0;32m/tmp/ipykernel_5258/3364028553.py\u001b[0m in \u001b[0;36m<module>\u001b[0;34m\u001b[0m\n\u001b[0;32m----> 1\u001b[0;31m \u001b[0mname\u001b[0m \u001b[0;34m+\u001b[0m \u001b[0;36m10\u001b[0m\u001b[0;34m\u001b[0m\u001b[0;34m\u001b[0m\u001b[0m\n\u001b[0m",
      "\u001b[0;31mTypeError\u001b[0m: can only concatenate str (not \"int\") to str"
     ]
    }
   ],
   "source": [
    "name + 10\n"
   ]
  },
  {
   "cell_type": "code",
   "execution_count": 8,
   "id": "d0505edc",
   "metadata": {},
   "outputs": [
    {
     "data": {
      "text/plain": [
       "'Lovelace10'"
      ]
     },
     "execution_count": 8,
     "metadata": {},
     "output_type": "execute_result"
    }
   ],
   "source": [
    "name + \"10\""
   ]
  },
  {
   "cell_type": "code",
   "execution_count": 9,
   "id": "f0754013",
   "metadata": {},
   "outputs": [
    {
     "data": {
      "text/plain": [
       "0.03635135135135135"
      ]
     },
     "execution_count": 9,
     "metadata": {},
     "output_type": "execute_result"
    }
   ],
   "source": [
    "size / age"
   ]
  },
  {
   "cell_type": "code",
   "execution_count": 10,
   "id": "321a87fd",
   "metadata": {},
   "outputs": [],
   "source": [
    "number_of_articles = \"50\""
   ]
  },
  {
   "cell_type": "code",
   "execution_count": 11,
   "id": "e69485c9",
   "metadata": {},
   "outputs": [
    {
     "ename": "TypeError",
     "evalue": "unsupported operand type(s) for /: 'str' and 'int'",
     "output_type": "error",
     "traceback": [
      "\u001b[0;31m---------------------------------------------------------------------------\u001b[0m",
      "\u001b[0;31mTypeError\u001b[0m                                 Traceback (most recent call last)",
      "\u001b[0;32m/tmp/ipykernel_5258/296469042.py\u001b[0m in \u001b[0;36m<module>\u001b[0;34m\u001b[0m\n\u001b[0;32m----> 1\u001b[0;31m \u001b[0mnumber_of_articles\u001b[0m \u001b[0;34m/\u001b[0m \u001b[0;36m10\u001b[0m\u001b[0;34m\u001b[0m\u001b[0;34m\u001b[0m\u001b[0m\n\u001b[0m",
      "\u001b[0;31mTypeError\u001b[0m: unsupported operand type(s) for /: 'str' and 'int'"
     ]
    }
   ],
   "source": [
    "number_of_articles / 10"
   ]
  },
  {
   "cell_type": "code",
   "execution_count": 12,
   "id": "f38ca5c8",
   "metadata": {},
   "outputs": [
    {
     "data": {
      "text/plain": [
       "5.0"
      ]
     },
     "execution_count": 12,
     "metadata": {},
     "output_type": "execute_result"
    }
   ],
   "source": [
    "int (number_of_articles)/10"
   ]
  },
  {
   "cell_type": "markdown",
   "id": "fbccbb77",
   "metadata": {},
   "source": [
    "## Funktionen und Methoden"
   ]
  },
  {
   "cell_type": "code",
   "execution_count": 14,
   "id": "8f0f99a9",
   "metadata": {},
   "outputs": [
    {
     "data": {
      "text/plain": [
       "8"
      ]
     },
     "execution_count": 14,
     "metadata": {},
     "output_type": "execute_result"
    }
   ],
   "source": [
    "len(name)"
   ]
  },
  {
   "cell_type": "code",
   "execution_count": 15,
   "id": "a174db6a",
   "metadata": {},
   "outputs": [
    {
     "data": {
      "text/plain": [
       "'LOVELACE'"
      ]
     },
     "execution_count": 15,
     "metadata": {},
     "output_type": "execute_result"
    }
   ],
   "source": [
    "name.upper()"
   ]
  },
  {
   "cell_type": "code",
   "execution_count": 16,
   "id": "c04a7dbe",
   "metadata": {},
   "outputs": [
    {
     "data": {
      "text/plain": [
       "'LOVELACE'"
      ]
     },
     "execution_count": 16,
     "metadata": {},
     "output_type": "execute_result"
    }
   ],
   "source": [
    "x = name.upper\n",
    "x()"
   ]
  },
  {
   "cell_type": "code",
   "execution_count": 17,
   "id": "8f6eb9d5",
   "metadata": {},
   "outputs": [
    {
     "data": {
      "text/plain": [
       "2"
      ]
     },
     "execution_count": 17,
     "metadata": {},
     "output_type": "execute_result"
    }
   ],
   "source": [
    "name.count(\"e\")"
   ]
  },
  {
   "cell_type": "code",
   "execution_count": 18,
   "id": "fdf5e070",
   "metadata": {},
   "outputs": [
    {
     "data": {
      "text/plain": [
       "'Love is everywhere'"
      ]
     },
     "execution_count": 18,
     "metadata": {},
     "output_type": "execute_result"
    }
   ],
   "source": [
    "name.replace(\"lace\",\" is everywhere\")"
   ]
  },
  {
   "cell_type": "markdown",
   "id": "82e878ef",
   "metadata": {},
   "source": [
    "## Listen und Dictionaries"
   ]
  },
  {
   "cell_type": "code",
   "execution_count": 19,
   "id": "339a0960",
   "metadata": {},
   "outputs": [],
   "source": [
    "names = [\"Lovelace\", \"Darwin\", \"Noether\", \"Hawking\"]"
   ]
  },
  {
   "cell_type": "code",
   "execution_count": 20,
   "id": "441736a4",
   "metadata": {},
   "outputs": [
    {
     "data": {
      "text/plain": [
       "'Lovelace'"
      ]
     },
     "execution_count": 20,
     "metadata": {},
     "output_type": "execute_result"
    }
   ],
   "source": [
    "names[0]"
   ]
  },
  {
   "cell_type": "code",
   "execution_count": 24,
   "id": "534ce912",
   "metadata": {},
   "outputs": [
    {
     "data": {
      "text/plain": [
       "'Noether'"
      ]
     },
     "execution_count": 24,
     "metadata": {},
     "output_type": "execute_result"
    }
   ],
   "source": [
    "names[2]"
   ]
  },
  {
   "cell_type": "code",
   "execution_count": 25,
   "id": "f55a0157",
   "metadata": {},
   "outputs": [
    {
     "data": {
      "text/plain": [
       "'Hawking'"
      ]
     },
     "execution_count": 25,
     "metadata": {},
     "output_type": "execute_result"
    }
   ],
   "source": [
    "names[-1]"
   ]
  },
  {
   "cell_type": "code",
   "execution_count": 26,
   "id": "44b5d7a2",
   "metadata": {},
   "outputs": [
    {
     "data": {
      "text/plain": [
       "['Lovelace', 'Darwin', 'Noether']"
      ]
     },
     "execution_count": 26,
     "metadata": {},
     "output_type": "execute_result"
    }
   ],
   "source": [
    "names[0:3]"
   ]
  },
  {
   "cell_type": "code",
   "execution_count": 27,
   "id": "0b6753d8",
   "metadata": {},
   "outputs": [
    {
     "data": {
      "text/plain": [
       "['Lovelace', 'Darwin']"
      ]
     },
     "execution_count": 27,
     "metadata": {},
     "output_type": "execute_result"
    }
   ],
   "source": [
    "names[:2]"
   ]
  },
  {
   "cell_type": "code",
   "execution_count": 28,
   "id": "a8c9c36f",
   "metadata": {},
   "outputs": [
    {
     "data": {
      "text/plain": [
       "['Noether', 'Hawking']"
      ]
     },
     "execution_count": 28,
     "metadata": {},
     "output_type": "execute_result"
    }
   ],
   "source": [
    "names[2:]"
   ]
  },
  {
   "cell_type": "code",
   "execution_count": 29,
   "id": "f5ba3d06",
   "metadata": {},
   "outputs": [
    {
     "data": {
      "text/plain": [
       "['Lovelace', 'Darwin', 'Noether', 'Hawking']"
      ]
     },
     "execution_count": 29,
     "metadata": {},
     "output_type": "execute_result"
    }
   ],
   "source": [
    "names"
   ]
  },
  {
   "cell_type": "code",
   "execution_count": 31,
   "id": "7de7489d",
   "metadata": {},
   "outputs": [],
   "source": [
    "authors_and_birth_years = {\"Lovelace\": 1815,\n",
    "                           \"Darwin\": 1809}"
   ]
  },
  {
   "cell_type": "code",
   "execution_count": 32,
   "id": "8b20cd53",
   "metadata": {},
   "outputs": [
    {
     "data": {
      "text/plain": [
       "1809"
      ]
     },
     "execution_count": 32,
     "metadata": {},
     "output_type": "execute_result"
    }
   ],
   "source": [
    "authors_and_birth_years[\"Darwin\"]"
   ]
  },
  {
   "cell_type": "markdown",
   "id": "e71e16d0",
   "metadata": {},
   "source": [
    "## For-Schleife / For-Loops"
   ]
  },
  {
   "cell_type": "code",
   "execution_count": 37,
   "id": "95ac3bc8",
   "metadata": {},
   "outputs": [
    {
     "name": "stdout",
     "output_type": "stream",
     "text": [
      "Lovelace did awesome stuff.\n",
      "****\n",
      "Darwin did awesome stuff.\n",
      "****\n",
      "Noether did awesome stuff.\n",
      "****\n",
      "Hawking did awesome stuff.\n",
      "****\n",
      "------------\n"
     ]
    }
   ],
   "source": [
    "for person in names:\n",
    "    print(person + \" did awesome stuff.\")\n",
    "    print(\"****\")\n",
    "print(\"------------\")"
   ]
  },
  {
   "cell_type": "code",
   "execution_count": null,
   "id": "cabf9ab7",
   "metadata": {},
   "outputs": [],
   "source": []
  }
 ],
 "metadata": {
  "kernelspec": {
   "display_name": "Python 3 (ipykernel)",
   "language": "python",
   "name": "python3"
  },
  "language_info": {
   "codemirror_mode": {
    "name": "ipython",
    "version": 3
   },
   "file_extension": ".py",
   "mimetype": "text/x-python",
   "name": "python",
   "nbconvert_exporter": "python",
   "pygments_lexer": "ipython3",
   "version": "3.9.13"
  }
 },
 "nbformat": 4,
 "nbformat_minor": 5
}
