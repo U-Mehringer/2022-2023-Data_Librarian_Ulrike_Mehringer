{
 "cells": [
  {
   "cell_type": "markdown",
   "id": "5de3735d",
   "metadata": {},
   "source": [
    "# Seattle Library data analysis\n",
    "# Module 1, assignment 4"
   ]
  },
  {
   "cell_type": "code",
   "execution_count": 3,
   "id": "7572159b",
   "metadata": {},
   "outputs": [],
   "source": [
    "import urllib.request\n",
    "import pandas as pd"
   ]
  },
  {
   "cell_type": "markdown",
   "id": "bda8d9d0",
   "metadata": {},
   "source": [
    "## Fragestellung 2: Wieviele Ausleihen im Jahr 2019 waren Neuerscheinungen aus den Jahren 2018-2019?\n",
    "## Checkout-Daten über API holen und in Datei abspeichern"
   ]
  },
  {
   "cell_type": "code",
   "execution_count": 4,
   "id": "ffaa984e",
   "metadata": {},
   "outputs": [
    {
     "data": {
      "text/plain": [
       "('checkout.csv', <http.client.HTTPMessage at 0x7fddbef04550>)"
      ]
     },
     "execution_count": 4,
     "metadata": {},
     "output_type": "execute_result"
    }
   ],
   "source": [
    "url = \"https://data.seattle.gov/resource/tmmm-ytt6.csv?$select=SUM(checkouts),publicationyear&$group=publicationyear&$where=checkoutyear=2019&$limit=10000\"\n",
    "checkout_file = \"checkout.csv\"\n",
    "urllib.request.urlretrieve(url,checkout_file)"
   ]
  },
  {
   "cell_type": "markdown",
   "id": "b3a76790",
   "metadata": {},
   "source": [
    "## Daten in DataFrame laden und analysieren"
   ]
  },
  {
   "cell_type": "code",
   "execution_count": 5,
   "id": "76e1162d",
   "metadata": {},
   "outputs": [],
   "source": [
    "checkouts_df = pd.read_csv(checkout_file)"
   ]
  },
  {
   "cell_type": "code",
   "execution_count": 6,
   "id": "d74ba032",
   "metadata": {},
   "outputs": [
    {
     "data": {
      "text/html": [
       "<div>\n",
       "<style scoped>\n",
       "    .dataframe tbody tr th:only-of-type {\n",
       "        vertical-align: middle;\n",
       "    }\n",
       "\n",
       "    .dataframe tbody tr th {\n",
       "        vertical-align: top;\n",
       "    }\n",
       "\n",
       "    .dataframe thead th {\n",
       "        text-align: right;\n",
       "    }\n",
       "</style>\n",
       "<table border=\"1\" class=\"dataframe\">\n",
       "  <thead>\n",
       "    <tr style=\"text-align: right;\">\n",
       "      <th></th>\n",
       "      <th>SUM_checkouts</th>\n",
       "      <th>publicationyear</th>\n",
       "    </tr>\n",
       "  </thead>\n",
       "  <tbody>\n",
       "    <tr>\n",
       "      <th>0</th>\n",
       "      <td>1</td>\n",
       "      <td>07/2018.</td>\n",
       "    </tr>\n",
       "    <tr>\n",
       "      <th>1</th>\n",
       "      <td>1</td>\n",
       "      <td>1406 H., 1986.</td>\n",
       "    </tr>\n",
       "    <tr>\n",
       "      <th>2</th>\n",
       "      <td>2</td>\n",
       "      <td>1431 [2010]</td>\n",
       "    </tr>\n",
       "    <tr>\n",
       "      <th>3</th>\n",
       "      <td>1</td>\n",
       "      <td>1812.</td>\n",
       "    </tr>\n",
       "    <tr>\n",
       "      <th>4</th>\n",
       "      <td>2</td>\n",
       "      <td>1824.</td>\n",
       "    </tr>\n",
       "    <tr>\n",
       "      <th>...</th>\n",
       "      <td>...</td>\n",
       "      <td>...</td>\n",
       "    </tr>\n",
       "    <tr>\n",
       "      <th>3266</th>\n",
       "      <td>8</td>\n",
       "      <td>Tāhśāś 2005</td>\n",
       "    </tr>\n",
       "    <tr>\n",
       "      <th>3267</th>\n",
       "      <td>1</td>\n",
       "      <td>Ṭeqemt 2007 ʻĀmata meḥerat, October 2014.</td>\n",
       "    </tr>\n",
       "    <tr>\n",
       "      <th>3268</th>\n",
       "      <td>1</td>\n",
       "      <td>[Vorwort 1956]</td>\n",
       "    </tr>\n",
       "    <tr>\n",
       "      <th>3269</th>\n",
       "      <td>1</td>\n",
       "      <td>Xin chao she :. 1992.</td>\n",
       "    </tr>\n",
       "    <tr>\n",
       "      <th>3270</th>\n",
       "      <td>50643</td>\n",
       "      <td>NaN</td>\n",
       "    </tr>\n",
       "  </tbody>\n",
       "</table>\n",
       "<p>3271 rows × 2 columns</p>\n",
       "</div>"
      ],
      "text/plain": [
       "      SUM_checkouts                            publicationyear\n",
       "0                 1                                   07/2018.\n",
       "1                 1                             1406 H., 1986.\n",
       "2                 2                                1431 [2010]\n",
       "3                 1                                      1812.\n",
       "4                 2                                      1824.\n",
       "...             ...                                        ...\n",
       "3266              8                                Tāhśāś 2005\n",
       "3267              1  Ṭeqemt 2007 ʻĀmata meḥerat, October 2014.\n",
       "3268              1                             [Vorwort 1956]\n",
       "3269              1                      Xin chao she :. 1992.\n",
       "3270          50643                                        NaN\n",
       "\n",
       "[3271 rows x 2 columns]"
      ]
     },
     "execution_count": 6,
     "metadata": {},
     "output_type": "execute_result"
    }
   ],
   "source": [
    "checkouts_df"
   ]
  },
  {
   "cell_type": "code",
   "execution_count": 7,
   "id": "55cd2868",
   "metadata": {},
   "outputs": [],
   "source": [
    "checkouts_df[\"newpublication\"] = checkouts_df[\"publicationyear\"].str.contains(\"2018|2019\")"
   ]
  },
  {
   "cell_type": "code",
   "execution_count": 8,
   "id": "7cf30288",
   "metadata": {},
   "outputs": [
    {
     "data": {
      "text/html": [
       "<div>\n",
       "<style scoped>\n",
       "    .dataframe tbody tr th:only-of-type {\n",
       "        vertical-align: middle;\n",
       "    }\n",
       "\n",
       "    .dataframe tbody tr th {\n",
       "        vertical-align: top;\n",
       "    }\n",
       "\n",
       "    .dataframe thead th {\n",
       "        text-align: right;\n",
       "    }\n",
       "</style>\n",
       "<table border=\"1\" class=\"dataframe\">\n",
       "  <thead>\n",
       "    <tr style=\"text-align: right;\">\n",
       "      <th></th>\n",
       "      <th>SUM_checkouts</th>\n",
       "      <th>publicationyear</th>\n",
       "      <th>newpublication</th>\n",
       "    </tr>\n",
       "  </thead>\n",
       "  <tbody>\n",
       "    <tr>\n",
       "      <th>0</th>\n",
       "      <td>1</td>\n",
       "      <td>07/2018.</td>\n",
       "      <td>True</td>\n",
       "    </tr>\n",
       "    <tr>\n",
       "      <th>1</th>\n",
       "      <td>1</td>\n",
       "      <td>1406 H., 1986.</td>\n",
       "      <td>False</td>\n",
       "    </tr>\n",
       "    <tr>\n",
       "      <th>2</th>\n",
       "      <td>2</td>\n",
       "      <td>1431 [2010]</td>\n",
       "      <td>False</td>\n",
       "    </tr>\n",
       "    <tr>\n",
       "      <th>3</th>\n",
       "      <td>1</td>\n",
       "      <td>1812.</td>\n",
       "      <td>False</td>\n",
       "    </tr>\n",
       "    <tr>\n",
       "      <th>4</th>\n",
       "      <td>2</td>\n",
       "      <td>1824.</td>\n",
       "      <td>False</td>\n",
       "    </tr>\n",
       "    <tr>\n",
       "      <th>...</th>\n",
       "      <td>...</td>\n",
       "      <td>...</td>\n",
       "      <td>...</td>\n",
       "    </tr>\n",
       "    <tr>\n",
       "      <th>3266</th>\n",
       "      <td>8</td>\n",
       "      <td>Tāhśāś 2005</td>\n",
       "      <td>False</td>\n",
       "    </tr>\n",
       "    <tr>\n",
       "      <th>3267</th>\n",
       "      <td>1</td>\n",
       "      <td>Ṭeqemt 2007 ʻĀmata meḥerat, October 2014.</td>\n",
       "      <td>False</td>\n",
       "    </tr>\n",
       "    <tr>\n",
       "      <th>3268</th>\n",
       "      <td>1</td>\n",
       "      <td>[Vorwort 1956]</td>\n",
       "      <td>False</td>\n",
       "    </tr>\n",
       "    <tr>\n",
       "      <th>3269</th>\n",
       "      <td>1</td>\n",
       "      <td>Xin chao she :. 1992.</td>\n",
       "      <td>False</td>\n",
       "    </tr>\n",
       "    <tr>\n",
       "      <th>3270</th>\n",
       "      <td>50643</td>\n",
       "      <td>NaN</td>\n",
       "      <td>NaN</td>\n",
       "    </tr>\n",
       "  </tbody>\n",
       "</table>\n",
       "<p>3271 rows × 3 columns</p>\n",
       "</div>"
      ],
      "text/plain": [
       "      SUM_checkouts                            publicationyear newpublication\n",
       "0                 1                                   07/2018.           True\n",
       "1                 1                             1406 H., 1986.          False\n",
       "2                 2                                1431 [2010]          False\n",
       "3                 1                                      1812.          False\n",
       "4                 2                                      1824.          False\n",
       "...             ...                                        ...            ...\n",
       "3266              8                                Tāhśāś 2005          False\n",
       "3267              1  Ṭeqemt 2007 ʻĀmata meḥerat, October 2014.          False\n",
       "3268              1                             [Vorwort 1956]          False\n",
       "3269              1                      Xin chao she :. 1992.          False\n",
       "3270          50643                                        NaN            NaN\n",
       "\n",
       "[3271 rows x 3 columns]"
      ]
     },
     "execution_count": 8,
     "metadata": {},
     "output_type": "execute_result"
    }
   ],
   "source": [
    "checkouts_df"
   ]
  },
  {
   "cell_type": "code",
   "execution_count": 9,
   "id": "4f9c93f0",
   "metadata": {},
   "outputs": [
    {
     "data": {
      "text/plain": [
       "array([True, False, nan], dtype=object)"
      ]
     },
     "execution_count": 9,
     "metadata": {},
     "output_type": "execute_result"
    }
   ],
   "source": [
    "checkouts_df[\"newpublication\"].unique()"
   ]
  },
  {
   "cell_type": "code",
   "execution_count": 15,
   "id": "349badd1",
   "metadata": {},
   "outputs": [],
   "source": [
    "checkouts_df = checkouts_df.groupby([\"newpublication\"],dropna=False).sum()"
   ]
  },
  {
   "cell_type": "code",
   "execution_count": 16,
   "id": "00872b5a",
   "metadata": {},
   "outputs": [
    {
     "data": {
      "text/html": [
       "<div>\n",
       "<style scoped>\n",
       "    .dataframe tbody tr th:only-of-type {\n",
       "        vertical-align: middle;\n",
       "    }\n",
       "\n",
       "    .dataframe tbody tr th {\n",
       "        vertical-align: top;\n",
       "    }\n",
       "\n",
       "    .dataframe thead th {\n",
       "        text-align: right;\n",
       "    }\n",
       "</style>\n",
       "<table border=\"1\" class=\"dataframe\">\n",
       "  <thead>\n",
       "    <tr style=\"text-align: right;\">\n",
       "      <th></th>\n",
       "      <th>SUM_checkouts</th>\n",
       "    </tr>\n",
       "    <tr>\n",
       "      <th>newpublication</th>\n",
       "      <th></th>\n",
       "    </tr>\n",
       "  </thead>\n",
       "  <tbody>\n",
       "    <tr>\n",
       "      <th>Andere</th>\n",
       "      <td>6058108</td>\n",
       "    </tr>\n",
       "    <tr>\n",
       "      <th>Neuerscheinungen 2018-2019</th>\n",
       "      <td>3090332</td>\n",
       "    </tr>\n",
       "    <tr>\n",
       "      <th>NaN</th>\n",
       "      <td>50643</td>\n",
       "    </tr>\n",
       "  </tbody>\n",
       "</table>\n",
       "</div>"
      ],
      "text/plain": [
       "                            SUM_checkouts\n",
       "newpublication                           \n",
       "Andere                            6058108\n",
       "Neuerscheinungen 2018-2019        3090332\n",
       "NaN                                 50643"
      ]
     },
     "execution_count": 16,
     "metadata": {},
     "output_type": "execute_result"
    }
   ],
   "source": [
    "checkouts_df"
   ]
  },
  {
   "cell_type": "code",
   "execution_count": 17,
   "id": "31e3fe8d",
   "metadata": {},
   "outputs": [],
   "source": [
    "%matplotlib inline"
   ]
  },
  {
   "cell_type": "code",
   "execution_count": 18,
   "id": "0b83a652",
   "metadata": {},
   "outputs": [],
   "source": [
    "checkouts_df = checkouts_df.rename(index={0:'Andere',1:'Neuerscheinungen 2018-2019'})"
   ]
  },
  {
   "cell_type": "code",
   "execution_count": 19,
   "id": "5fac282c",
   "metadata": {},
   "outputs": [
    {
     "data": {
      "text/plain": [
       "<AxesSubplot:ylabel='Ausleihen 2019'>"
      ]
     },
     "execution_count": 19,
     "metadata": {},
     "output_type": "execute_result"
    },
    {
     "data": {
      "image/png": "[encoded data removed]",
      "text/plain": [
       "<Figure size 640x480 with 1 Axes>"
      ]
     },
     "metadata": {},
     "output_type": "display_data"
    }
   ],
   "source": [
    "checkouts_df[\"SUM_checkouts\"].plot(kind=\"pie\",label=\"Ausleihen 2019\")"
   ]
  },
  {
   "cell_type": "markdown",
   "id": "a0e57638",
   "metadata": {},
   "source": []
  }
 ],
 "metadata": {
  "kernelspec": {
   "display_name": "Python 3 (ipykernel)",
   "language": "python",
   "name": "python3"
  },
  "language_info": {
   "codemirror_mode": {
    "name": "ipython",
    "version": 3
   },
   "file_extension": ".py",
   "mimetype": "text/x-python",
   "name": "python",
   "nbconvert_exporter": "python",
   "pygments_lexer": "ipython3",
   "version": "3.9.13"
  }
 },
 "nbformat": 4,
 "nbformat_minor": 5
}
