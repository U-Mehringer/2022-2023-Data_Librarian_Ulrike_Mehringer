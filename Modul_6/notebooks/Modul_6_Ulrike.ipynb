{
 "cells": [
  {
   "cell_type": "markdown",
   "id": "442eedfc",
   "metadata": {},
   "source": [
    "# Modul 6 - Projektaufgabe\n",
    "## Ugly is better than nothing - Generieren von Titelaufnahmen aus den METS/MODS-Daten digitalisierter Handschriften zur Übernahme in den K10plus und Nachnutzung im lokalen Nachweissystem ACTApro\n",
    "### Ulrike Mehringer, 4.7.2023-18.8.2023"
   ]
  },
  {
   "cell_type": "code",
   "execution_count": 119,
   "id": "89f3cef1",
   "metadata": {},
   "outputs": [],
   "source": [
    "import urllib.request\n",
    "import xml.etree.ElementTree as ET\n"
   ]
  },
  {
   "cell_type": "markdown",
   "id": "4b06b77d",
   "metadata": {},
   "source": [
    "## Personen: von GND zu PPN"
   ]
  },
  {
   "cell_type": "code",
   "execution_count": 120,
   "id": "674d3856",
   "metadata": {},
   "outputs": [
    {
     "data": {
      "text/plain": [
       "('../data/person.xml', <http.client.HTTPMessage at 0x7f9e7e584c70>)"
      ]
     },
     "execution_count": 120,
     "metadata": {},
     "output_type": "execute_result"
    }
   ],
   "source": [
    "# Personennormsatz über die GND-Nummer im K10Plus abrufen\n",
    "# gnd_nr = \"11879650X\"\n",
    "gnd_nr = \"118655477\"\n",
    "url = \"http://sru.k10plus.de/opac-de-627!rec=2?&operation=searchRetrieve&query=pica.nid=\"+gnd_nr+\"&maximumRecords=1&recordSchema=mods\"\n",
    "person_xml = \"../data/person.xml\"\n",
    "urllib.request.urlretrieve(url,person_xml)"
   ]
  },
  {
   "cell_type": "code",
   "execution_count": null,
   "id": "d47e65d6",
   "metadata": {},
   "outputs": [],
   "source": []
  },
  {
   "cell_type": "code",
   "execution_count": 121,
   "id": "6e80a71b",
   "metadata": {},
   "outputs": [],
   "source": [
    "# K10Plus-PPN aus person_file auslesen\n",
    "# XML parsen\n",
    "person_tree = ET.parse(person_xml)\n",
    "person_root = person_tree.getroot()"
   ]
  },
  {
   "cell_type": "code",
   "execution_count": 122,
   "id": "0d3c41fc",
   "metadata": {},
   "outputs": [],
   "source": [
    "# print(person_root.findall(\".//{http://docs.oasis-open.org/ns/search-ws/sruResponse}recordData/{http://www.loc.gov/mods/v3}mods/*\"))"
   ]
  },
  {
   "cell_type": "code",
   "execution_count": 123,
   "id": "225cf744",
   "metadata": {},
   "outputs": [],
   "source": [
    "rec_id = person_root.find('.//{http://www.loc.gov/mods/v3}recordIdentifier')"
   ]
  },
  {
   "cell_type": "code",
   "execution_count": 124,
   "id": "fc3ee322",
   "metadata": {},
   "outputs": [
    {
     "data": {
      "text/plain": [
       "xml.etree.ElementTree.Element"
      ]
     },
     "execution_count": 124,
     "metadata": {},
     "output_type": "execute_result"
    }
   ],
   "source": [
    "type(rec_id)"
   ]
  },
  {
   "cell_type": "code",
   "execution_count": 125,
   "id": "13b46339",
   "metadata": {},
   "outputs": [
    {
     "name": "stdout",
     "output_type": "stream",
     "text": [
      "{'source': 'DE-627'}\n"
     ]
    }
   ],
   "source": [
    "print(rec_id.attrib)"
   ]
  },
  {
   "cell_type": "code",
   "execution_count": 126,
   "id": "ba6a4ad6",
   "metadata": {},
   "outputs": [
    {
     "name": "stdout",
     "output_type": "stream",
     "text": [
      "133737063\n"
     ]
    }
   ],
   "source": [
    "print(rec_id.text)"
   ]
  },
  {
   "cell_type": "code",
   "execution_count": 127,
   "id": "2fe6cf7c",
   "metadata": {},
   "outputs": [],
   "source": [
    "# Variable für die Textausgabe\n",
    "ppn = rec_id.text"
   ]
  },
  {
   "cell_type": "markdown",
   "id": "3dee8a67",
   "metadata": {},
   "source": [
    "## METS/MODS aus Opendigi"
   ]
  },
  {
   "cell_type": "code",
   "execution_count": null,
   "id": "c2305f49",
   "metadata": {},
   "outputs": [],
   "source": []
  }
 ],
 "metadata": {
  "kernelspec": {
   "display_name": "Python 3 (ipykernel)",
   "language": "python",
   "name": "python3"
  },
  "language_info": {
   "codemirror_mode": {
    "name": "ipython",
    "version": 3
   },
   "file_extension": ".py",
   "mimetype": "text/x-python",
   "name": "python",
   "nbconvert_exporter": "python",
   "pygments_lexer": "ipython3",
   "version": "3.9.13"
  }
 },
 "nbformat": 4,
 "nbformat_minor": 5
}
