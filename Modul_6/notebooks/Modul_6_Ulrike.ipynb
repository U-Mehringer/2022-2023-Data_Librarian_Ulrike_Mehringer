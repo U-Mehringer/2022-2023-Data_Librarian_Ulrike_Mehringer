{
 "cells": [
  {
   "cell_type": "markdown",
   "id": "442eedfc",
   "metadata": {},
   "source": [
    "# Modul 6 - Projektaufgabe\n",
    "## Ugly is better than nothing - Generieren von Titelaufnahmen aus den METS/MODS-Daten digitalisierter Handschriften zur Übernahme in den K10plus und Nachnutzung im lokalen Nachweissystem ACTApro\n",
    "### Ulrike Mehringer, 4.7.2023-18.8.2023"
   ]
  },
  {
   "cell_type": "code",
   "execution_count": 1,
   "id": "89f3cef1",
   "metadata": {},
   "outputs": [],
   "source": [
    "import urllib.request\n",
    "import xml.etree.ElementTree as ET\n",
    "import re"
   ]
  },
  {
   "cell_type": "markdown",
   "id": "4b06b77d",
   "metadata": {},
   "source": [
    "## Personen: von GND zu PPN"
   ]
  },
  {
   "cell_type": "code",
   "execution_count": 2,
   "id": "674d3856",
   "metadata": {},
   "outputs": [],
   "source": [
    "# Personennormsatz-ID (PPN) über die GND-Nummer im K10Plus abrufen\n",
    "# gnd_nr = \"11879650X\"\n",
    "gnd_nr = \"118655477\"\n",
    "def gnd_ppn(gnd_nr):\n",
    "    url = \"http://sru.k10plus.de/opac-de-627!rec=2?&operation=searchRetrieve&query=pica.nid=\"+gnd_nr+\"&maximumRecords=1&recordSchema=mods\"\n",
    "    person_xml = \"../data/person.xml\"\n",
    "    urllib.request.urlretrieve(url,person_xml)\n",
    "# XML parsen\n",
    "    person_tree = ET.parse(person_xml)\n",
    "    person_root = person_tree.getroot()\n",
    "# K10Plus-PPN aus person_file auslesen\n",
    "    rec_id = person_root.find('.//{http://www.loc.gov/mods/v3}recordIdentifier')\n",
    "# Variable für die Textausgabe\n",
    "    ppn = rec_id.text\n",
    "    return(ppn)\n",
    "    "
   ]
  },
  {
   "cell_type": "code",
   "execution_count": 3,
   "id": "0d3c41fc",
   "metadata": {},
   "outputs": [],
   "source": [
    "# print(person_root.findall(\".//{http://docs.oasis-open.org/ns/search-ws/sruResponse}recordData/{http://www.loc.gov/mods/v3}mods/*\"))"
   ]
  },
  {
   "cell_type": "code",
   "execution_count": 4,
   "id": "225cf744",
   "metadata": {},
   "outputs": [],
   "source": [
    "# rec_id = person_root.find('.//{http://www.loc.gov/mods/v3}recordIdentifier')"
   ]
  },
  {
   "cell_type": "code",
   "execution_count": 5,
   "id": "fc3ee322",
   "metadata": {},
   "outputs": [],
   "source": [
    "# type(rec_id)"
   ]
  },
  {
   "cell_type": "code",
   "execution_count": 6,
   "id": "13b46339",
   "metadata": {},
   "outputs": [],
   "source": [
    "# print(rec_id.attrib)"
   ]
  },
  {
   "cell_type": "code",
   "execution_count": 7,
   "id": "ba6a4ad6",
   "metadata": {},
   "outputs": [],
   "source": [
    "# print(rec_id.text)"
   ]
  },
  {
   "cell_type": "code",
   "execution_count": 8,
   "id": "2fe6cf7c",
   "metadata": {},
   "outputs": [],
   "source": [
    "# Variable für die Textausgabe\n",
    "# ppn = rec_id.text\n",
    "# return(ppn)"
   ]
  },
  {
   "cell_type": "code",
   "execution_count": 9,
   "id": "50b642cf",
   "metadata": {},
   "outputs": [],
   "source": [
    "# print(ppn)"
   ]
  },
  {
   "cell_type": "markdown",
   "id": "3dee8a67",
   "metadata": {},
   "source": [
    "## METS/MODS aus OpenDigi"
   ]
  },
  {
   "cell_type": "code",
   "execution_count": 10,
   "id": "c2305f49",
   "metadata": {},
   "outputs": [
    {
     "data": {
      "text/plain": [
       "('../data/Mc339.xml', <http.client.HTTPMessage at 0x7ff6b8046550>)"
      ]
     },
     "execution_count": 10,
     "metadata": {},
     "output_type": "execute_result"
    }
   ],
   "source": [
    "# METS-Daten des OpenDigi-Projekts einlesen\n",
    "od_projekt = \"Mc339\"\n",
    "url = \"https://idb.ub.uni-tuebingen.de/opendigi/\"+od_projekt+\"/mets\"\n",
    "od_xml = \"../data/\"+od_projekt+\".xml\"\n",
    "urllib.request.urlretrieve(url,od_xml)"
   ]
  },
  {
   "cell_type": "code",
   "execution_count": 11,
   "id": "79731be6",
   "metadata": {},
   "outputs": [],
   "source": [
    "od_tree = ET.parse(od_xml)\n",
    "od_root = od_tree.getroot()"
   ]
  },
  {
   "cell_type": "code",
   "execution_count": 12,
   "id": "dd8952cf",
   "metadata": {},
   "outputs": [],
   "source": [
    "od_data = od_root.find(\".//{http://www.loc.gov/METS/}xmlData/*\")"
   ]
  },
  {
   "cell_type": "code",
   "execution_count": 13,
   "id": "ab6dafe2",
   "metadata": {},
   "outputs": [
    {
     "data": {
      "text/plain": [
       "xml.etree.ElementTree.Element"
      ]
     },
     "execution_count": 13,
     "metadata": {},
     "output_type": "execute_result"
    }
   ],
   "source": [
    "type(od_data)"
   ]
  },
  {
   "cell_type": "code",
   "execution_count": 14,
   "id": "f8f0e60b",
   "metadata": {},
   "outputs": [
    {
     "name": "stdout",
     "output_type": "stream",
     "text": [
      "{http://www.loc.gov/mods/v3}titleInfo {}\n",
      "{http://www.loc.gov/mods/v3}identifier {'type': 'urn'}\n",
      "{http://www.loc.gov/mods/v3}recordInfo {}\n",
      "{http://www.loc.gov/mods/v3}location {}\n",
      "{http://www.loc.gov/mods/v3}language {}\n",
      "{http://www.loc.gov/mods/v3}name {'authority': 'gnd', 'authorityURI': 'http://d-nb.info/gnd/', 'type': 'personal', 'valueURI': 'http://d-nb.info/gnd/119244071'}\n",
      "{http://www.loc.gov/mods/v3}name {'type': 'personal'}\n",
      "{http://www.loc.gov/mods/v3}name {'type': 'personal'}\n",
      "{http://www.loc.gov/mods/v3}originInfo {}\n"
     ]
    }
   ],
   "source": [
    "for child in od_data:\n",
    "    print(child.tag,child.attrib)"
   ]
  },
  {
   "cell_type": "code",
   "execution_count": 15,
   "id": "71d40516",
   "metadata": {},
   "outputs": [
    {
     "name": "stdout",
     "output_type": "stream",
     "text": [
      "Novella super quarto libro decretalium Johannis Andreae\n"
     ]
    }
   ],
   "source": [
    "# Titel, Feld 4000\n",
    "od_title = od_root.find(\".//{http://www.loc.gov/mods/v3}title\")\n",
    "print(od_title.text)"
   ]
  },
  {
   "cell_type": "code",
   "execution_count": 16,
   "id": "3c8f6397",
   "metadata": {},
   "outputs": [
    {
     "name": "stdout",
     "output_type": "stream",
     "text": [
      "urn:nbn:de:bsz:21-dt-258226\n"
     ]
    }
   ],
   "source": [
    "# URN, Feld 2050 und 4950\n",
    "od_urn = od_root.find(\".//{http://www.loc.gov/mods/v3}recordIdentifier\")\n",
    "print(od_urn.text)"
   ]
  },
  {
   "cell_type": "code",
   "execution_count": 17,
   "id": "912027d4",
   "metadata": {},
   "outputs": [
    {
     "name": "stdout",
     "output_type": "stream",
     "text": [
      "Mc 339\n"
     ]
    }
   ],
   "source": [
    "# Signatur, Feld 4065 $a\n",
    "od_shelf = od_root.find(\".//{http://www.loc.gov/mods/v3}shelfLocator\")\n",
    "print(od_shelf.text)"
   ]
  },
  {
   "cell_type": "code",
   "execution_count": 18,
   "id": "4dce68cf",
   "metadata": {},
   "outputs": [
    {
     "name": "stdout",
     "output_type": "stream",
     "text": [
      "lat\n"
     ]
    }
   ],
   "source": [
    "# Sprache, Feld 1500\n",
    "od_lang = od_root.find(\".//{http://www.loc.gov/mods/v3}languageTerm\")\n",
    "if re.search(r\"; *\",od_lang.text):\n",
    "    od_lang = str_replace(\"; \",\"$a\",od_lang.text)\n",
    "print(od_lang.text)"
   ]
  },
  {
   "cell_type": "code",
   "execution_count": 19,
   "id": "a862021d",
   "metadata": {},
   "outputs": [
    {
     "name": "stdout",
     "output_type": "stream",
     "text": [
      "o.O.\n",
      "[Entstehungsort nicht ermittelbar]\n"
     ]
    }
   ],
   "source": [
    "# Entstehungsort, Feld 4046 (Feld 4040?)\n",
    "od_place = od_root.find(\".//{http://www.loc.gov/mods/v3}placeTerm\")\n",
    "print(od_place.text)\n",
    "if re.search(r\"[oO]. *[oO.]\",od_place.text):\n",
    "    od_place = \"[Entstehungsort nicht ermittelbar]\"\n",
    "print(od_place) "
   ]
  },
  {
   "cell_type": "code",
   "execution_count": 20,
   "id": "b5ab1865",
   "metadata": {},
   "outputs": [
    {
     "name": "stdout",
     "output_type": "stream",
     "text": [
      "1393 [um 1393]\n"
     ]
    }
   ],
   "source": [
    "# Entstehungsdatum, Feld 1100, 1100 $n\n",
    "od_date = od_root.findall(\".//{http://www.loc.gov/mods/v3}dateIssued\")\n",
    "# od_date ist eine Liste\n",
    "od_date_norm = od_date[0].text\n",
    "od_date_subm = \"[\"+od_date[1].text+\"]\"\n",
    "if re.search(r\"[oO]. *[dD].\",od_date_subm):\n",
    "    od_date_norm = \"[1XXX]\"\n",
    "    od_date_subm = \"[Entstehungdatum nicht ermittelbar]\"\n",
    "print(od_date_norm,od_date_subm)"
   ]
  },
  {
   "cell_type": "code",
   "execution_count": 21,
   "id": "0e7881dd",
   "metadata": {},
   "outputs": [
    {
     "data": {
      "text/plain": [
       "[<Element '{http://www.loc.gov/mods/v3}name' at 0x7ff6b8047ea0>,\n",
       " <Element '{http://www.loc.gov/mods/v3}name' at 0x7ff6a27c2130>,\n",
       " <Element '{http://www.loc.gov/mods/v3}name' at 0x7ff6a27c2270>]"
      ]
     },
     "execution_count": 21,
     "metadata": {},
     "output_type": "execute_result"
    }
   ],
   "source": [
    "# Personen, Feld 3000, 3010\n",
    "od_name = od_root.findall(\".//{http://www.loc.gov/mods/v3}name\")\n",
    "od_name"
   ]
  },
  {
   "cell_type": "code",
   "execution_count": 22,
   "id": "95f4adc1",
   "metadata": {},
   "outputs": [
    {
     "name": "stdout",
     "output_type": "stream",
     "text": [
      "http://d-nb.info/gnd/119244071 ['119244071']\n"
     ]
    },
    {
     "data": {
      "text/plain": [
       "'080046096'"
      ]
     },
     "execution_count": 22,
     "metadata": {},
     "output_type": "execute_result"
    }
   ],
   "source": [
    "gnd_url = od_name[0].attrib['valueURI']\n",
    "gnd_nr = str(re.findall(r'/gnd/(.*)',gnd_url))\n",
    "print(gnd_url,gnd_nr)\n",
    "gnd_ppn(gnd_nr)"
   ]
  },
  {
   "cell_type": "code",
   "execution_count": 62,
   "id": "14e725a4",
   "metadata": {},
   "outputs": [
    {
     "name": "stdout",
     "output_type": "stream",
     "text": [
      "080046096\n",
      "huhu\n",
      "Johannes Andreae\n",
      "Hieronymus Angeli de Esslingen [Schreiber]\n",
      "Meier de Wasszneck, Ulrich [Schreiber]\n",
      "huhu\n",
      "Johannes Andreae\n",
      "Hieronymus Angeli de Esslingen [Schreiber]\n",
      "Meier de Wasszneck, Ulrich [Schreiber]\n"
     ]
    }
   ],
   "source": [
    "for name in od_name:\n",
    "    y = str(name.attrib)\n",
    "    if 'valueURI' in y:\n",
    "        gnd_url = name.attrib['valueURI']\n",
    "        gnd_nr = str(re.findall(r'/gnd/(.*)',gnd_url))\n",
    "        name_ppn = gnd_ppn(gnd_nr)\n",
    "        print(name_ppn)\n",
    "    else:\n",
    "        print(\"huhu\")\n",
    "        od_name_display = od_root.findall(\".//{http://www.loc.gov/mods/v3}displayForm\")\n",
    "        print(od_name_display[0].text)\n",
    "        print(od_name_display[1].text)\n",
    "        print(od_name_display[2].text)"
   ]
  },
  {
   "cell_type": "code",
   "execution_count": 28,
   "id": "788e0e17",
   "metadata": {},
   "outputs": [
    {
     "data": {
      "text/plain": [
       "[<Element '{http://www.loc.gov/mods/v3}displayForm' at 0x7ff6b8047f40>,\n",
       " <Element '{http://www.loc.gov/mods/v3}displayForm' at 0x7ff6a27c2180>,\n",
       " <Element '{http://www.loc.gov/mods/v3}displayForm' at 0x7ff6a27c22c0>]"
      ]
     },
     "execution_count": 28,
     "metadata": {},
     "output_type": "execute_result"
    }
   ],
   "source": [
    "od_name_display = od_root.findall(\".//{http://www.loc.gov/mods/v3}displayForm\")\n",
    "od_name_display"
   ]
  },
  {
   "cell_type": "code",
   "execution_count": 33,
   "id": "93d5c199",
   "metadata": {},
   "outputs": [
    {
     "data": {
      "text/plain": [
       "'Johannes Andreae'"
      ]
     },
     "execution_count": 33,
     "metadata": {},
     "output_type": "execute_result"
    }
   ],
   "source": [
    "od_name_display[0].text"
   ]
  },
  {
   "cell_type": "code",
   "execution_count": 34,
   "id": "c0e26bff",
   "metadata": {},
   "outputs": [
    {
     "data": {
      "text/plain": [
       "'Hieronymus Angeli de Esslingen [Schreiber]'"
      ]
     },
     "execution_count": 34,
     "metadata": {},
     "output_type": "execute_result"
    }
   ],
   "source": [
    "od_name_display[1].text"
   ]
  },
  {
   "cell_type": "code",
   "execution_count": 35,
   "id": "19dbea96",
   "metadata": {},
   "outputs": [
    {
     "data": {
      "text/plain": [
       "'Meier de Wasszneck, Ulrich [Schreiber]'"
      ]
     },
     "execution_count": 35,
     "metadata": {},
     "output_type": "execute_result"
    }
   ],
   "source": [
    "od_name_display[2].text"
   ]
  },
  {
   "cell_type": "code",
   "execution_count": null,
   "id": "2dce7dfc",
   "metadata": {},
   "outputs": [],
   "source": []
  }
 ],
 "metadata": {
  "kernelspec": {
   "display_name": "Python 3 (ipykernel)",
   "language": "python",
   "name": "python3"
  },
  "language_info": {
   "codemirror_mode": {
    "name": "ipython",
    "version": 3
   },
   "file_extension": ".py",
   "mimetype": "text/x-python",
   "name": "python",
   "nbconvert_exporter": "python",
   "pygments_lexer": "ipython3",
   "version": "3.9.13"
  }
 },
 "nbformat": 4,
 "nbformat_minor": 5
}
