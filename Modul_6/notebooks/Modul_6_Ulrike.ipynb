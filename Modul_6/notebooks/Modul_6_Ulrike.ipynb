{
 "cells": [
  {
   "cell_type": "markdown",
   "id": "442eedfc",
   "metadata": {},
   "source": [
    "# Modul 6 - Projektaufgabe\n",
    "## Ugly is better than nothing - Generieren von Titelaufnahmen aus den METS/MODS-Daten digitalisierter Handschriften zur Übernahme in den K10plus und Nachnutzung im lokalen Nachweissystem ACTApro\n",
    "### Ulrike Mehringer, 2023"
   ]
  },
  {
   "cell_type": "code",
   "execution_count": 1,
   "id": "89f3cef1",
   "metadata": {},
   "outputs": [],
   "source": [
    "import urllib.request\n",
    "import xml.etree.ElementTree as ET\n",
    "import re"
   ]
  },
  {
   "cell_type": "markdown",
   "id": "4b06b77d",
   "metadata": {},
   "source": [
    "## Personen: von GND zu PPN"
   ]
  },
  {
   "cell_type": "code",
   "execution_count": 2,
   "id": "674d3856",
   "metadata": {},
   "outputs": [],
   "source": [
    "# Funktion gnd_ppn: Personennormsatz-ID (PPN) über die GND-Nummer im K10Plus abrufen\n",
    "\n",
    "gnd_nr = \"118655477\"\n",
    "def gnd_ppn(gnd_nr):\n",
    "    \n",
    "## Normsatz aus K10Plus auslesen\n",
    "    url = \"http://sru.k10plus.de/opac-de-627!rec=2?&operation=searchRetrieve&query=pica.nid=\"+gnd_nr+\"&maximumRecords=1&recordSchema=mods\"\n",
    "    person_xml = \"../data/person.xml\"\n",
    "    urllib.request.urlretrieve(url,person_xml)\n",
    "    \n",
    "## XML parsen\n",
    "    person_tree = ET.parse(person_xml)\n",
    "    person_root = person_tree.getroot()\n",
    "    \n",
    "## K10Plus-PPN aus person_xml auslesen\n",
    "    rec_id = person_root.find('.//{http://www.loc.gov/mods/v3}recordIdentifier')\n",
    "    \n",
    "## Variable für die Textausgabe\n",
    "    ppn = rec_id.text\n",
    "    return(ppn)\n",
    "\n",
    "    "
   ]
  },
  {
   "cell_type": "markdown",
   "id": "3dee8a67",
   "metadata": {},
   "source": [
    "## METS/MODS aus OpenDigi"
   ]
  },
  {
   "cell_type": "code",
   "execution_count": 3,
   "id": "c2305f49",
   "metadata": {},
   "outputs": [],
   "source": [
    "# METS-Daten des OpenDigi-Projekts einlesen\n",
    "od_projekt = \"Mc339\"\n",
    "url = \"https://idb.ub.uni-tuebingen.de/opendigi/\"+od_projekt+\"/mets\"\n",
    "od_xml = \"../data/\"+od_projekt+\".xml\"\n",
    "urllib.request.urlretrieve(url,od_xml)\n",
    "\n",
    "# Zieldatei anlegen\n",
    "datei = open(\"../data/\"+od_projekt+\".txt\",'a')"
   ]
  },
  {
   "cell_type": "code",
   "execution_count": 4,
   "id": "79731be6",
   "metadata": {},
   "outputs": [],
   "source": [
    "od_tree = ET.parse(od_xml)\n",
    "od_root = od_tree.getroot()"
   ]
  },
  {
   "cell_type": "code",
   "execution_count": 5,
   "id": "dd8952cf",
   "metadata": {},
   "outputs": [],
   "source": [
    "od_data = od_root.find(\".//{http://www.loc.gov/METS/}xmlData/*\")"
   ]
  },
  {
   "cell_type": "code",
   "execution_count": 6,
   "id": "ab6dafe2",
   "metadata": {},
   "outputs": [
    {
     "data": {
      "text/plain": [
       "xml.etree.ElementTree.Element"
      ]
     },
     "execution_count": 6,
     "metadata": {},
     "output_type": "execute_result"
    }
   ],
   "source": [
    "type(od_data)"
   ]
  },
  {
   "cell_type": "code",
   "execution_count": 7,
   "id": "f8f0e60b",
   "metadata": {},
   "outputs": [
    {
     "name": "stdout",
     "output_type": "stream",
     "text": [
      "{http://www.loc.gov/mods/v3}titleInfo {}\n",
      "{http://www.loc.gov/mods/v3}identifier {'type': 'urn'}\n",
      "{http://www.loc.gov/mods/v3}recordInfo {}\n",
      "{http://www.loc.gov/mods/v3}identifier {'type': 'doi'}\n",
      "{http://www.loc.gov/mods/v3}location {}\n",
      "{http://www.loc.gov/mods/v3}language {}\n",
      "{http://www.loc.gov/mods/v3}name {'authority': 'gnd', 'authorityURI': 'http://d-nb.info/gnd/', 'type': 'personal', 'valueURI': 'http://d-nb.info/gnd/119244071'}\n",
      "{http://www.loc.gov/mods/v3}name {'type': 'personal'}\n",
      "{http://www.loc.gov/mods/v3}name {'type': 'personal'}\n",
      "{http://www.loc.gov/mods/v3}originInfo {}\n"
     ]
    }
   ],
   "source": [
    "for child in od_data:\n",
    "    print(child.tag,child.attrib)"
   ]
  },
  {
   "cell_type": "code",
   "execution_count": 8,
   "id": "71d40516",
   "metadata": {},
   "outputs": [
    {
     "name": "stdout",
     "output_type": "stream",
     "text": [
      "Novella super quarto libro decretalium Johannis Andreae\n"
     ]
    },
    {
     "data": {
      "text/plain": [
       "61"
      ]
     },
     "execution_count": 8,
     "metadata": {},
     "output_type": "execute_result"
    }
   ],
   "source": [
    "# Titel, Feld 4000\n",
    "od_title = od_root.find(\".//{http://www.loc.gov/mods/v3}title\")\n",
    "print(od_title.text)\n",
    "datei.write('\\n4000 '+od_title.text)"
   ]
  },
  {
   "cell_type": "code",
   "execution_count": 35,
   "id": "7da6ac10",
   "metadata": {},
   "outputs": [
    {
     "name": "stdout",
     "output_type": "stream",
     "text": [
      "urn:nbn:de:bsz:21-dt-258226\n",
      "10.20345/digitue.25822\n"
     ]
    },
    {
     "data": {
      "text/plain": [
       "47"
      ]
     },
     "execution_count": 35,
     "metadata": {},
     "output_type": "execute_result"
    }
   ],
   "source": [
    "# PIDs: URN und DOI, Felder 2050, 2051 und 4950\n",
    "od_pid = od_root.findall(\".//{http://www.loc.gov/mods/v3}identifier\")\n",
    "for i in range(0,len(od_pid)):\n",
    "    if od_pid[i].attrib[\"type\"]==\"urn\":\n",
    "        od_urn = od_pid[i].text\n",
    "    elif od_pid[i].attrib[\"type\"]==\"doi\":\n",
    "        od_doi = od_pid[i].text\n",
    "        \n",
    "print(od_urn)\n",
    "print(od_doi)\n",
    "\n",
    "datei.write('\\n2050 '+od_urn)\n",
    "datei.write('\\n2051 '+od_doi)\n",
    "datei.write('\\n4950 http://nbn-resolving.de/'+od_urn+'$xR$3Volltext$534')\n",
    "datei.write('\\n4950 https://doi.org/'+od_doi+'$xR')"
   ]
  },
  {
   "cell_type": "code",
   "execution_count": 42,
   "id": "912027d4",
   "metadata": {},
   "outputs": [
    {
     "name": "stdout",
     "output_type": "stream",
     "text": [
      "Mc 339\n"
     ]
    },
    {
     "data": {
      "text/plain": [
       "32"
      ]
     },
     "execution_count": 42,
     "metadata": {},
     "output_type": "execute_result"
    }
   ],
   "source": [
    "# Signatur, Feld 4065 $a\n",
    "od_shelf = od_root.find(\".//{http://www.loc.gov/mods/v3}shelfLocator\")\n",
    "print(od_shelf.text)\n",
    "datei.write('\\n4065 XA-DE$cUB Tübingen$a'+od_shelf.text)"
   ]
  },
  {
   "cell_type": "code",
   "execution_count": 43,
   "id": "4dce68cf",
   "metadata": {},
   "outputs": [
    {
     "name": "stdout",
     "output_type": "stream",
     "text": [
      "lat\n"
     ]
    },
    {
     "data": {
      "text/plain": [
       "9"
      ]
     },
     "execution_count": 43,
     "metadata": {},
     "output_type": "execute_result"
    }
   ],
   "source": [
    "# Sprache, Feld 1500\n",
    "od_lang = od_root.find(\".//{http://www.loc.gov/mods/v3}languageTerm\")\n",
    "if re.search(r\"; *\",od_lang.text):\n",
    "    od_lang = str_replace(\"; \",\"$a\",od_lang.text)\n",
    "print(od_lang.text)\n",
    "datei.write('\\n1500 '+od_lang.text)"
   ]
  },
  {
   "cell_type": "code",
   "execution_count": 46,
   "id": "a862021d",
   "metadata": {},
   "outputs": [
    {
     "name": "stdout",
     "output_type": "stream",
     "text": [
      "o.O.\n",
      "[Entstehungsort nicht ermittelbar]\n"
     ]
    },
    {
     "data": {
      "text/plain": [
       "40"
      ]
     },
     "execution_count": 46,
     "metadata": {},
     "output_type": "execute_result"
    }
   ],
   "source": [
    "# Entstehungsort, Feld 4046 (Feld 4040?)\n",
    "od_place = od_root.find(\".//{http://www.loc.gov/mods/v3}placeTerm\")\n",
    "print(od_place.text)\n",
    "if re.search(r\"[oO]. *[oO.]\",od_place.text):\n",
    "    od_place = \"[Entstehungsort nicht ermittelbar]\"\n",
    "print(od_place) \n",
    "datei.write('\\n4046 '+od_place)"
   ]
  },
  {
   "cell_type": "code",
   "execution_count": 45,
   "id": "b5ab1865",
   "metadata": {},
   "outputs": [
    {
     "name": "stdout",
     "output_type": "stream",
     "text": [
      "1393 [um 1393]\n"
     ]
    },
    {
     "data": {
      "text/plain": [
       "21"
      ]
     },
     "execution_count": 45,
     "metadata": {},
     "output_type": "execute_result"
    }
   ],
   "source": [
    "# Entstehungsdatum, Feld 1100, 1100 $n\n",
    "od_date = od_root.findall(\".//{http://www.loc.gov/mods/v3}dateIssued\")\n",
    "# od_date ist eine Liste\n",
    "od_date_norm = od_date[0].text\n",
    "od_date_subm = \"[\"+od_date[1].text+\"]\"\n",
    "if re.search(r\"[oO]. *[dD].\",od_date_subm):\n",
    "    od_date_norm = \"[1XXX]\"\n",
    "    od_date_subm = \"[Entstehungdatum nicht ermittelbar]\"\n",
    "print(od_date_norm,od_date_subm)\n",
    "datei.write('\\n1100 '+od_date_norm+'$n'+od_date_subm)"
   ]
  },
  {
   "cell_type": "code",
   "execution_count": 48,
   "id": "0e7881dd",
   "metadata": {},
   "outputs": [
    {
     "name": "stdout",
     "output_type": "stream",
     "text": [
      "080046096\n",
      "Hieronymus Angeli de Esslingen [Schreiber]\n",
      "Meier de Wasszneck, Ulrich [Schreiber]\n",
      "080046096\n"
     ]
    }
   ],
   "source": [
    "# Personen, Feld 3000, 3010\n",
    "od_name = od_root.findall(\".//{http://www.loc.gov/mods/v3}name\")\n",
    "for i in range(0,len(od_name)):\n",
    "    y = str(od_name[i].attrib)\n",
    "    if 'valueURI' in y:\n",
    "        gnd_url = od_name[i].attrib['valueURI']\n",
    "        gnd_nr = str(re.findall(r'/gnd/(.*)',gnd_url))\n",
    "        name_ppn = gnd_ppn(gnd_nr)\n",
    "        print(name_ppn)\n",
    "    else:\n",
    "        od_name_display = od_root.findall(\".//{http://www.loc.gov/mods/v3}displayForm\")\n",
    "        print(od_name_display[i].text)\n",
    "        \n",
    "print(name_ppn)        \n"
   ]
  },
  {
   "cell_type": "code",
   "execution_count": null,
   "id": "02bce752",
   "metadata": {},
   "outputs": [],
   "source": []
  },
  {
   "cell_type": "code",
   "execution_count": null,
   "id": "e4d17425",
   "metadata": {},
   "outputs": [],
   "source": []
  }
 ],
 "metadata": {
  "kernelspec": {
   "display_name": "Python 3 (ipykernel)",
   "language": "python",
   "name": "python3"
  },
  "language_info": {
   "codemirror_mode": {
    "name": "ipython",
    "version": 3
   },
   "file_extension": ".py",
   "mimetype": "text/x-python",
   "name": "python",
   "nbconvert_exporter": "python",
   "pygments_lexer": "ipython3",
   "version": "3.9.13"
  }
 },
 "nbformat": 4,
 "nbformat_minor": 5
}
