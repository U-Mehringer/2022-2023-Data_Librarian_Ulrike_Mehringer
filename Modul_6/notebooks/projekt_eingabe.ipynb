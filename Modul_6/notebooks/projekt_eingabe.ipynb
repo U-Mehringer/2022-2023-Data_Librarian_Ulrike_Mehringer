{
 "cells": [
  {
   "cell_type": "markdown",
   "id": "754bb2e9",
   "metadata": {},
   "source": [
    "# Eingabefenster Dwork-Projektnamen"
   ]
  },
  {
   "cell_type": "code",
   "execution_count": 12,
   "id": "b9031d81",
   "metadata": {},
   "outputs": [],
   "source": [
    "from tkinter import *"
   ]
  },
  {
   "cell_type": "code",
   "execution_count": 13,
   "id": "f2ac9241",
   "metadata": {},
   "outputs": [],
   "source": [
    "# Ein Fenster erstellen\n",
    "fenster = Tk()"
   ]
  },
  {
   "cell_type": "code",
   "execution_count": 14,
   "id": "4e74eb88",
   "metadata": {},
   "outputs": [
    {
     "data": {
      "text/plain": [
       "''"
      ]
     },
     "execution_count": 14,
     "metadata": {},
     "output_type": "execute_result"
    }
   ],
   "source": [
    "# Den Fenstertitel erstellen\n",
    "fenster.title(\"Nur ein Fenster\")"
   ]
  },
  {
   "cell_type": "code",
   "execution_count": null,
   "id": "649f1e58",
   "metadata": {},
   "outputs": [],
   "source": []
  },
  {
   "cell_type": "code",
   "execution_count": 15,
   "id": "070a9c8a",
   "metadata": {},
   "outputs": [],
   "source": [
    "# Ausführungs--funktion definieren\n",
    "def button_action():\n",
    "    anweisungs_label.config(text=\"Ich wurde geändert.\")\n",
    "    \n",
    "# Button und Label definieren\n",
    "change_button = Button(fenster,text='Ändern',command=button_action)\n",
    "exit_button = Button(fenster,text='Beenden',command=fenster.quit)\n",
    "\n",
    "anweisungs_label = Label(fenster,text='Ich bin eine Anweisung:\\nKlicke auf Ändern.')\n",
    "\n",
    "info_label = Label(fenster,text='Ich bin eine Info:\\nDer Beenden Button schließ das Programm.')\n",
    "\n",
    "anweisungs_label.pack()\n",
    "change_button.pack()\n",
    "info_label.pack()\n",
    "exit_button.pack()\n",
    "                        "
   ]
  },
  {
   "cell_type": "code",
   "execution_count": null,
   "id": "1fcdec54",
   "metadata": {},
   "outputs": [],
   "source": [
    "# Ereignisschleife\n",
    "fenster.mainloop()"
   ]
  },
  {
   "cell_type": "code",
   "execution_count": null,
   "id": "78ded765",
   "metadata": {},
   "outputs": [],
   "source": []
  }
 ],
 "metadata": {
  "kernelspec": {
   "display_name": "Python 3 (ipykernel)",
   "language": "python",
   "name": "python3"
  },
  "language_info": {
   "codemirror_mode": {
    "name": "ipython",
    "version": 3
   },
   "file_extension": ".py",
   "mimetype": "text/x-python",
   "name": "python",
   "nbconvert_exporter": "python",
   "pygments_lexer": "ipython3",
   "version": "3.9.13"
  }
 },
 "nbformat": 4,
 "nbformat_minor": 5
}
