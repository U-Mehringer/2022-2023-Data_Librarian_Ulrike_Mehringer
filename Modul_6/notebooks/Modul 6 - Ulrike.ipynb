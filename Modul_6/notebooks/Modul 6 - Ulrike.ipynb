{
 "cells": [
  {
   "cell_type": "markdown",
   "id": "442eedfc",
   "metadata": {},
   "source": [
    "# Modul 6 - Projektaufgabe\n",
    "## Ugly is better than nothing - Generieren von Titelaufnahmen aus den METS/MODS-Daten digitalisierter Handschriften zur Übernahme in den K10plus und Nachnutzung im lokalen Nachweissystem ACTApro\n",
    "### Ulrike Mehringer, 4.7.2023-18.8.2023"
   ]
  },
  {
   "cell_type": "code",
   "execution_count": 7,
   "id": "89f3cef1",
   "metadata": {},
   "outputs": [],
   "source": [
    "import urllib.request\n",
    "import pandas as pd\n"
   ]
  },
  {
   "cell_type": "code",
   "execution_count": 15,
   "id": "674d3856",
   "metadata": {},
   "outputs": [
    {
     "data": {
      "text/plain": [
       "('../data/person.xml', <http.client.HTTPMessage at 0x7f6f91417a30>)"
      ]
     },
     "execution_count": 15,
     "metadata": {},
     "output_type": "execute_result"
    }
   ],
   "source": [
    "# Personennormsatz über die GND-Nummer im K10Plus abrufen\n",
    "gnd_nr = \"11879650X\"\n",
    "url = \"http://sru.k10plus.de/opac-de-627!rec=2?&operation=searchRetrieve&query=pica.nid=\"+gnd_nr+\"&maximumRecords=1&recordSchema=mods\"\n",
    "person_file = \"../data/person.xml\"\n",
    "urllib.request.urlretrieve(url,person_file)\n",
    "\n",
    "# K10Plus-PPN aus person_file auslesen\n",
    "# Zeichenfolge in einer Datei finden\n",
    "\n"
   ]
  },
  {
   "cell_type": "code",
   "execution_count": null,
   "id": "6e80a71b",
   "metadata": {},
   "outputs": [],
   "source": []
  }
 ],
 "metadata": {
  "kernelspec": {
   "display_name": "Python 3 (ipykernel)",
   "language": "python",
   "name": "python3"
  },
  "language_info": {
   "codemirror_mode": {
    "name": "ipython",
    "version": 3
   },
   "file_extension": ".py",
   "mimetype": "text/x-python",
   "name": "python",
   "nbconvert_exporter": "python",
   "pygments_lexer": "ipython3",
   "version": "3.9.13"
  }
 },
 "nbformat": 4,
 "nbformat_minor": 5
}
