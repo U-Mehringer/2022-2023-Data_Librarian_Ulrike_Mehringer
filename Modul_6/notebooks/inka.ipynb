{
 "cells": [
  {
   "cell_type": "markdown",
   "id": "77efc99e",
   "metadata": {},
   "source": [
    "## INKA"
   ]
  },
  {
   "cell_type": "code",
   "execution_count": 5,
   "id": "7bb4413e",
   "metadata": {},
   "outputs": [],
   "source": [
    "import pandas as pd\n",
    "\n",
    "inka_df = pd.read_csv('../data/inkwwwneu.txt',sep=\"&01\",header=None,encoding='cp1250',engine='python')"
   ]
  },
  {
   "cell_type": "code",
   "execution_count": 6,
   "id": "d89a902e",
   "metadata": {},
   "outputs": [
    {
     "data": {
      "text/html": [
       "<div>\n",
       "<style scoped>\n",
       "    .dataframe tbody tr th:only-of-type {\n",
       "        vertical-align: middle;\n",
       "    }\n",
       "\n",
       "    .dataframe tbody tr th {\n",
       "        vertical-align: top;\n",
       "    }\n",
       "\n",
       "    .dataframe thead th {\n",
       "        text-align: right;\n",
       "    }\n",
       "</style>\n",
       "<table border=\"1\" class=\"dataframe\">\n",
       "  <thead>\n",
       "    <tr style=\"text-align: right;\">\n",
       "      <th></th>\n",
       "      <th>0</th>\n",
       "      <th>1</th>\n",
       "    </tr>\n",
       "  </thead>\n",
       "  <tbody>\n",
       "    <tr>\n",
       "      <th>0</th>\n",
       "      <td>NaN</td>\n",
       "      <td>146 &amp;02 PAD &amp;03t Sermones quattuor novissimor...</td>\n",
       "    </tr>\n",
       "    <tr>\n",
       "      <th>1</th>\n",
       "      <td>NaN</td>\n",
       "      <td>314 &amp;02 PAD &amp;03t Postilla super epistolas et ...</td>\n",
       "    </tr>\n",
       "    <tr>\n",
       "      <th>2</th>\n",
       "      <td>NaN</td>\n",
       "      <td>365 &amp;02 PAD &amp;03t Sermones dominicales super E...</td>\n",
       "    </tr>\n",
       "    <tr>\n",
       "      <th>3</th>\n",
       "      <td>NaN</td>\n",
       "      <td>1 &amp;02 MUF &amp;03t Sermones Sermones de tempore t...</td>\n",
       "    </tr>\n",
       "    <tr>\n",
       "      <th>4</th>\n",
       "      <td>NaN</td>\n",
       "      <td>1747 &amp;02 WUE &amp;03s &lt;i&gt;Nummer unbelegt&lt;/i&gt; &amp;88 ...</td>\n",
       "    </tr>\n",
       "    <tr>\n",
       "      <th>...</th>\n",
       "      <td>...</td>\n",
       "      <td>...</td>\n",
       "    </tr>\n",
       "    <tr>\n",
       "      <th>68409</th>\n",
       "      <td>NaN</td>\n",
       "      <td>Z-15 &amp;02 LUB &amp;03t Quaestiones metaphysicae. &amp;...</td>\n",
       "    </tr>\n",
       "    <tr>\n",
       "      <th>68410</th>\n",
       "      <td>NaN</td>\n",
       "      <td>Z. 2 &amp;02 ROS &amp;03t Quaestiones metaphysicae. M...</td>\n",
       "    </tr>\n",
       "    <tr>\n",
       "      <th>68411</th>\n",
       "      <td>NaN</td>\n",
       "      <td>F-270 &amp;02 MUN &amp;03t [Mandat zum Kauf der von E...</td>\n",
       "    </tr>\n",
       "    <tr>\n",
       "      <th>68412</th>\n",
       "      <td>NaN</td>\n",
       "      <td>F-271 &amp;02 MUN &amp;03t [Mandat zur Abhaltung von ...</td>\n",
       "    </tr>\n",
       "    <tr>\n",
       "      <th>68413</th>\n",
       "      <td>NaN</td>\n",
       "      <td>F-272 &amp;02 MUN &amp;03t [Mandat zur Erhebung des 2...</td>\n",
       "    </tr>\n",
       "  </tbody>\n",
       "</table>\n",
       "<p>68414 rows × 2 columns</p>\n",
       "</div>"
      ],
      "text/plain": [
       "        0                                                  1\n",
       "0     NaN   146 &02 PAD &03t Sermones quattuor novissimor...\n",
       "1     NaN   314 &02 PAD &03t Postilla super epistolas et ...\n",
       "2     NaN   365 &02 PAD &03t Sermones dominicales super E...\n",
       "3     NaN   1 &02 MUF &03t Sermones Sermones de tempore t...\n",
       "4     NaN   1747 &02 WUE &03s <i>Nummer unbelegt</i> &88 ...\n",
       "...    ..                                                ...\n",
       "68409 NaN   Z-15 &02 LUB &03t Quaestiones metaphysicae. &...\n",
       "68410 NaN   Z. 2 &02 ROS &03t Quaestiones metaphysicae. M...\n",
       "68411 NaN   F-270 &02 MUN &03t [Mandat zum Kauf der von E...\n",
       "68412 NaN   F-271 &02 MUN &03t [Mandat zur Abhaltung von ...\n",
       "68413 NaN   F-272 &02 MUN &03t [Mandat zur Erhebung des 2...\n",
       "\n",
       "[68414 rows x 2 columns]"
      ]
     },
     "execution_count": 6,
     "metadata": {},
     "output_type": "execute_result"
    }
   ],
   "source": [
    "inka_df"
   ]
  },
  {
   "cell_type": "code",
   "execution_count": null,
   "id": "64cd7d41",
   "metadata": {},
   "outputs": [],
   "source": []
  }
 ],
 "metadata": {
  "kernelspec": {
   "display_name": "Python 3 (ipykernel)",
   "language": "python",
   "name": "python3"
  },
  "language_info": {
   "codemirror_mode": {
    "name": "ipython",
    "version": 3
   },
   "file_extension": ".py",
   "mimetype": "text/x-python",
   "name": "python",
   "nbconvert_exporter": "python",
   "pygments_lexer": "ipython3",
   "version": "3.9.13"
  }
 },
 "nbformat": 4,
 "nbformat_minor": 5
}
