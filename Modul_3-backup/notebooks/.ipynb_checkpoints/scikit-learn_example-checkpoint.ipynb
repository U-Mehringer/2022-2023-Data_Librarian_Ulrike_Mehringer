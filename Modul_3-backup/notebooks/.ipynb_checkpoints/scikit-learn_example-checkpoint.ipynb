{
 "cells": [
  {
   "cell_type": "markdown",
   "id": "5fccf72b",
   "metadata": {},
   "source": [
    "## Scikit-learn example"
   ]
  },
  {
   "cell_type": "code",
   "execution_count": 5,
   "id": "bb3f5968",
   "metadata": {},
   "outputs": [],
   "source": [
    "# import the packages\n",
    "import numpy as np\n",
    "from sklearn.linear_model import LinearRegression"
   ]
  },
  {
   "cell_type": "code",
   "execution_count": 6,
   "id": "8fcb6d3a",
   "metadata": {},
   "outputs": [],
   "source": [
    "# create some dummy dependent and independent variables\n",
    "x = np.array([[1,1],[1,2],[2,2],[2,3]])\n",
    "y = -1*x[:,0]+2+x[:,1]"
   ]
  },
  {
   "cell_type": "code",
   "execution_count": 8,
   "id": "533a5fda",
   "metadata": {},
   "outputs": [
    {
     "data": {
      "text/plain": [
       "array([-1.,  1.])"
      ]
     },
     "execution_count": 8,
     "metadata": {},
     "output_type": "execute_result"
    }
   ],
   "source": [
    "# estimate a linear regression and print out the coefficients\n",
    "reg = LinearRegression().fit(x,y)\n",
    "reg.coef_"
   ]
  },
  {
   "cell_type": "markdown",
   "id": "6c721b5a",
   "metadata": {},
   "source": [
    "##### hä???"
   ]
  },
  {
   "cell_type": "code",
   "execution_count": null,
   "id": "f401e928",
   "metadata": {},
   "outputs": [],
   "source": []
  }
 ],
 "metadata": {
  "kernelspec": {
   "display_name": "Python 3 (ipykernel)",
   "language": "python",
   "name": "python3"
  },
  "language_info": {
   "codemirror_mode": {
    "name": "ipython",
    "version": 3
   },
   "file_extension": ".py",
   "mimetype": "text/x-python",
   "name": "python",
   "nbconvert_exporter": "python",
   "pygments_lexer": "ipython3",
   "version": "3.9.13"
  }
 },
 "nbformat": 4,
 "nbformat_minor": 5
}
