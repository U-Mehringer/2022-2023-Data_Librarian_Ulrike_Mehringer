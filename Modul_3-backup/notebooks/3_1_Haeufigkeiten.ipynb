{
 "cells": [
  {
   "cell_type": "markdown",
   "id": "0bc1c367",
   "metadata": {},
   "source": [
    "## 3.1 Häufigkeiten"
   ]
  },
  {
   "cell_type": "code",
   "execution_count": 1,
   "id": "85cceb0c",
   "metadata": {},
   "outputs": [],
   "source": [
    "import pandas as pd\n",
    "df = pd.read_csv(\"../data/Library_Usage.csv\")"
   ]
  },
  {
   "cell_type": "markdown",
   "id": "e88818c0",
   "metadata": {},
   "source": [
    "### Aufgabe 3.1"
   ]
  },
  {
   "cell_type": "code",
   "execution_count": 2,
   "id": "8c89edc6",
   "metadata": {},
   "outputs": [
    {
     "data": {
      "text/plain": [
       "2019    56437\n",
       "2022    52377\n",
       "2003    42903\n",
       "2020    32999\n",
       "2021    32568\n",
       "2017    30419\n",
       "2018    30262\n",
       "2016    22551\n",
       "2015    21105\n",
       "2014    17028\n",
       "2013    14245\n",
       "2012    13908\n",
       "2011    13285\n",
       "2009    12098\n",
       "2010    11884\n",
       "2008    10760\n",
       "2007     6900\n",
       "2006     5579\n",
       "2005     5069\n",
       "2004     4738\n",
       "Name: Year Patron Registered, dtype: int64"
      ]
     },
     "execution_count": 2,
     "metadata": {},
     "output_type": "execute_result"
    }
   ],
   "source": [
    "# 1. Häufigkeitsverteilung für Year Patron Registered:\n",
    "df['Year Patron Registered'].value_counts()"
   ]
  },
  {
   "cell_type": "code",
   "execution_count": 3,
   "id": "f3c1d03e",
   "metadata": {},
   "outputs": [
    {
     "name": "stdout",
     "output_type": "stream",
     "text": [
      "2013 : 3.26 Prozent\n",
      "2014 : 3.9 Prozent\n",
      "2015 : 4.83 Prozent\n",
      "2016 : 5.16 Prozent\n",
      "2017 : 6.96 Prozent\n",
      "2018 : 6.92 Prozent\n",
      "2019 : 12.91 Prozent\n",
      "2020 : 7.55 Prozent\n",
      "2021 : 7.45 Prozent\n"
     ]
    }
   ],
   "source": [
    "# Wieviel Prozent wurden 2013 registriert? Wie viele in den kommenden Jahren?\n",
    "for jahr in range(2013,2022):\n",
    "    x = len(df.loc[df['Year Patron Registered'] == jahr])*100/len(df['Year Patron Registered'])\n",
    "    print(jahr,\":\",round(x,2),\"Prozent\")"
   ]
  },
  {
   "cell_type": "code",
   "execution_count": 4,
   "id": "010571b9",
   "metadata": {},
   "outputs": [
    {
     "name": "stdout",
     "output_type": "stream",
     "text": [
      "25-34 Jahre: 21.23 Prozent\n"
     ]
    }
   ],
   "source": [
    "# 2. Wieviel Prozent der Kunden sind zwischen 25-34 Jahre alt?\n",
    "x = len(df.loc[df['Age Range'] == '25 to 34 years'])*100/len(df['Age Range'])\n",
    "print(\"25-34 Jahre:\",round(x,2),\"Prozent\")"
   ]
  },
  {
   "cell_type": "code",
   "execution_count": 5,
   "id": "2a20bd7d",
   "metadata": {},
   "outputs": [
    {
     "name": "stdout",
     "output_type": "stream",
     "text": [
      "25-34 Jahre: 21.44 Prozent\n"
     ]
    }
   ],
   "source": [
    "# 3. Fehlende Werte in Age Range durch den Modus dieser Spalte ersetzen\n",
    "age_mode = df['Age Range'].mode()\n",
    "df['Age Range'] = df['Age Range'].fillna(age_mode[0])\n",
    "x = len(df.loc[df['Age Range'] == '25 to 34 years'])*100/len(df['Age Range'])\n",
    "print(\"25-34 Jahre:\",round(x,2),\"Prozent\")"
   ]
  },
  {
   "cell_type": "code",
   "execution_count": 6,
   "id": "f2195169",
   "metadata": {},
   "outputs": [
    {
     "name": "stdout",
     "output_type": "stream",
     "text": [
      "25-34 Jahre: 21.27 Prozent\n"
     ]
    }
   ],
   "source": [
    "# Zeilen ohne Werte in Age Range löschen:\n",
    "df = pd.read_csv(\"../data/Library_Usage.csv\")\n",
    "df = df.dropna(subset='Age Range')\n",
    "x = len(df.loc[df['Age Range'] == '25 to 34 years'])*100/len(df['Age Range'])\n",
    "print(\"25-34 Jahre:\",round(x,2),\"Prozent\")"
   ]
  },
  {
   "cell_type": "markdown",
   "id": "19fff57f",
   "metadata": {},
   "source": [
    "### Beispiele aus dem Skript"
   ]
  },
  {
   "cell_type": "code",
   "execution_count": 7,
   "id": "1c30f2db",
   "metadata": {},
   "outputs": [
    {
     "data": {
      "text/plain": [
       "25 to 34 years       0.212729\n",
       "35 to 44 years       0.184501\n",
       "10 to 19 years       0.154337\n",
       "45 to 54 years       0.111768\n",
       "0 to 9 years         0.079420\n",
       "65 to 74 years       0.073147\n",
       "20 to 24 years       0.056132\n",
       "55 to 59 years       0.044203\n",
       "75 years and over    0.043266\n",
       "60 to 64 years       0.040496\n",
       "Name: Age Range, dtype: float64"
      ]
     },
     "execution_count": 7,
     "metadata": {},
     "output_type": "execute_result"
    }
   ],
   "source": [
    "# relative Häufigkeit\n",
    "df[\"Age Range\"].value_counts(normalize=True)"
   ]
  },
  {
   "cell_type": "code",
   "execution_count": 8,
   "id": "0a16e90b",
   "metadata": {},
   "outputs": [
    {
     "data": {
      "text/plain": [
       "'25 to 34 years'"
      ]
     },
     "execution_count": 8,
     "metadata": {},
     "output_type": "execute_result"
    }
   ],
   "source": [
    "# Modus: Merkmalsausprägung mit den meisten Beobachtungen\n",
    "age_mode = df[\"Age Range\"].mode()\n",
    "age_mode[0]"
   ]
  },
  {
   "cell_type": "code",
   "execution_count": null,
   "id": "c3073892",
   "metadata": {},
   "outputs": [],
   "source": []
  },
  {
   "cell_type": "code",
   "execution_count": null,
   "id": "f63488ef",
   "metadata": {},
   "outputs": [],
   "source": []
  }
 ],
 "metadata": {
  "kernelspec": {
   "display_name": "Python 3 (ipykernel)",
   "language": "python",
   "name": "python3"
  },
  "language_info": {
   "codemirror_mode": {
    "name": "ipython",
    "version": 3
   },
   "file_extension": ".py",
   "mimetype": "text/x-python",
   "name": "python",
   "nbconvert_exporter": "python",
   "pygments_lexer": "ipython3",
   "version": "3.9.13"
  }
 },
 "nbformat": 4,
 "nbformat_minor": 5
}
