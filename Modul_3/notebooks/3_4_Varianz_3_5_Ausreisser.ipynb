{
 "cells": [
  {
   "cell_type": "markdown",
   "id": "3b02fa7a",
   "metadata": {},
   "source": [
    "## 3.4 Varianz, Streuungsmaße"
   ]
  },
  {
   "cell_type": "markdown",
   "id": "cbc7833d",
   "metadata": {},
   "source": [
    "## 3.5 Ausreißer II"
   ]
  },
  {
   "cell_type": "markdown",
   "id": "24f0d109",
   "metadata": {},
   "source": [
    "### Aufgabe 3.4"
   ]
  },
  {
   "cell_type": "code",
   "execution_count": 1,
   "id": "058c037c",
   "metadata": {},
   "outputs": [],
   "source": [
    "import pandas as pd\n",
    "df = pd.read_csv(\"../data/Library_Usage.csv\")"
   ]
  },
  {
   "cell_type": "code",
   "execution_count": 2,
   "id": "683f1fe1",
   "metadata": {},
   "outputs": [
    {
     "name": "stdout",
     "output_type": "stream",
     "text": [
      "Streuung: Total Checkouts: 533.5281737037718 --- Total Renewals: 296.74080421893774\n"
     ]
    }
   ],
   "source": [
    "# Streuung, Standardabweichungen\n",
    "\n",
    "std_checkouts = df['Total Checkouts'].std()\n",
    "std_renewals = df['Total Renewals'].std()\n",
    "\n",
    "print(\"Streuung: Total Checkouts:\",std_checkouts,\"--- Total Renewals:\",std_renewals)"
   ]
  },
  {
   "cell_type": "code",
   "execution_count": 3,
   "id": "2ae53541",
   "metadata": {},
   "outputs": [
    {
     "name": "stdout",
     "output_type": "stream",
     "text": [
      "Variationskoeffizient: Total Checkouts: 3.3120898292646523 --- Total Renewals: 3.9185830657498233\n"
     ]
    }
   ],
   "source": [
    "# Variationskoeffizient = Standardabweichung geteilt durch Mittelwert\n",
    "\n",
    "mittel_checkouts = df['Total Checkouts'].mean()\n",
    "mittel_renewals = df['Total Renewals'].mean()\n",
    "\n",
    "cv_checkouts = std_checkouts / mittel_checkouts\n",
    "cv_renewals = std_renewals / mittel_renewals\n",
    "\n",
    "print(\"Variationskoeffizient: Total Checkouts:\",cv_checkouts,\"--- Total Renewals:\",cv_renewals)"
   ]
  },
  {
   "cell_type": "markdown",
   "id": "b2612aca",
   "metadata": {},
   "source": [
    "### Aufgabe 3.5"
   ]
  },
  {
   "cell_type": "code",
   "execution_count": 4,
   "id": "148c8ab2",
   "metadata": {},
   "outputs": [
    {
     "name": "stdout",
     "output_type": "stream",
     "text": [
      "Ausreißer nach oben sind alle Ausleihen über 203 - Anzahl: 69464 = 15.89 Prozent aller Beobachtungen\n"
     ]
    }
   ],
   "source": [
    "# Ausreißerentfernung II: Werte größer als die Summe aus 0.75 Quartil plus 1,5-facher Interquartilsabstand\n",
    "interquartil =  df['Total Checkouts'].quantile(q=0.75) - df['Total Checkouts'].quantile(q=0.25)\n",
    "row_filter = df['Total Checkouts'] > (df['Total Checkouts'].quantile(q=0.75) + 1.5*interquartil)\n",
    "ausreisser = df.loc[row_filter]\n",
    "anzahl = len(ausreisser)\n",
    "min_wert = ausreisser['Total Checkouts'].min()\n",
    "\n",
    "prozent = anzahl*100/len(df['Total Checkouts'])\n",
    "\n",
    "print(\"Ausreißer nach oben sind alle Ausleihen über\", min_wert, \"- Anzahl:\",anzahl,\"=\",round(prozent,2),\"Prozent aller Beobachtungen\")\n"
   ]
  },
  {
   "cell_type": "code",
   "execution_count": null,
   "id": "a877e55a",
   "metadata": {},
   "outputs": [],
   "source": []
  },
  {
   "cell_type": "markdown",
   "id": "39fd5ab4",
   "metadata": {},
   "source": [
    "### Beispiele aus dem Skript"
   ]
  },
  {
   "cell_type": "code",
   "execution_count": 5,
   "id": "12fd393d",
   "metadata": {},
   "outputs": [],
   "source": [
    "import pandas as pd\n",
    "import numpy as np\n",
    "df = pd.read_csv(\"../data/Library_Usage.csv\")"
   ]
  },
  {
   "cell_type": "code",
   "execution_count": 6,
   "id": "b0ae55c9",
   "metadata": {},
   "outputs": [
    {
     "data": {
      "text/plain": [
       "284652.31213568215"
      ]
     },
     "execution_count": 6,
     "metadata": {},
     "output_type": "execute_result"
    }
   ],
   "source": [
    "# Varianz\n",
    "df['Total Checkouts'].var()"
   ]
  },
  {
   "cell_type": "code",
   "execution_count": 7,
   "id": "00727e90",
   "metadata": {},
   "outputs": [
    {
     "data": {
      "text/plain": [
       "161.08505542019836"
      ]
     },
     "execution_count": 7,
     "metadata": {},
     "output_type": "execute_result"
    }
   ],
   "source": [
    "# Mittelwert\n",
    "df['Total Checkouts'].mean()"
   ]
  },
  {
   "cell_type": "code",
   "execution_count": 8,
   "id": "46f261c7",
   "metadata": {},
   "outputs": [
    {
     "data": {
      "text/plain": [
       "533.5281737037718"
      ]
     },
     "execution_count": 8,
     "metadata": {},
     "output_type": "execute_result"
    }
   ],
   "source": [
    "# Standardabweichung\n",
    "df['Total Checkouts'].std()"
   ]
  },
  {
   "cell_type": "code",
   "execution_count": 9,
   "id": "651ef678",
   "metadata": {},
   "outputs": [],
   "source": [
    "# Variationskoeffizient = Standardabweichung geteilt durch Mittelwert\n",
    "# cv = df.std() / df.mean()"
   ]
  },
  {
   "cell_type": "code",
   "execution_count": 10,
   "id": "b83f2f37",
   "metadata": {},
   "outputs": [
    {
     "data": {
      "text/plain": [
       "45380"
      ]
     },
     "execution_count": 10,
     "metadata": {},
     "output_type": "execute_result"
    }
   ],
   "source": [
    "# Spannweite: Differenz zwischen Maximum- und Minimum-Wert\n",
    "df['Total Checkouts'].max() - df['Total Checkouts'].min()"
   ]
  },
  {
   "cell_type": "code",
   "execution_count": 11,
   "id": "9519858d",
   "metadata": {},
   "outputs": [
    {
     "data": {
      "text/plain": [
       "81.0"
      ]
     },
     "execution_count": 11,
     "metadata": {},
     "output_type": "execute_result"
    }
   ],
   "source": [
    "# Interquartilsabstand: Streuungsmaß. Differenz zwischen 0.75 und 0.25 Quantil\n",
    "df['Total Checkouts'].quantile(q=0.75) - df['Total Checkouts'].quantile(q=0.25)"
   ]
  },
  {
   "cell_type": "code",
   "execution_count": null,
   "id": "e846980e",
   "metadata": {},
   "outputs": [],
   "source": []
  }
 ],
 "metadata": {
  "kernelspec": {
   "display_name": "Python 3 (ipykernel)",
   "language": "python",
   "name": "python3"
  },
  "language_info": {
   "codemirror_mode": {
    "name": "ipython",
    "version": 3
   },
   "file_extension": ".py",
   "mimetype": "text/x-python",
   "name": "python",
   "nbconvert_exporter": "python",
   "pygments_lexer": "ipython3",
   "version": "3.9.13"
  }
 },
 "nbformat": 4,
 "nbformat_minor": 5
}
