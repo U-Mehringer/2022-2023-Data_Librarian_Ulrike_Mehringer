{
 "cells": [
  {
   "cell_type": "markdown",
   "id": "414a9570",
   "metadata": {},
   "source": [
    "## 4. Interferenzstatistik"
   ]
  },
  {
   "cell_type": "markdown",
   "id": "9c6a6014",
   "metadata": {},
   "source": [
    "### Aufgabe: Unterscheidet sich das durchschnittliche Ausleihverhalten von jungen und älteren BibliotheksnutzerInnen signifikant voneinander?"
   ]
  },
  {
   "cell_type": "code",
   "execution_count": 1,
   "id": "88cf4c04",
   "metadata": {},
   "outputs": [
    {
     "data": {
      "text/plain": [
       "array(['Teen', 'Adult', 'Senior'], dtype=object)"
      ]
     },
     "execution_count": 1,
     "metadata": {},
     "output_type": "execute_result"
    }
   ],
   "source": [
    "# Datensatz einlesen\n",
    "import pandas as pd\n",
    "%matplotlib inline\n",
    "import seaborn as sns\n",
    "sns.set()\n",
    "\n",
    "df = pd.read_csv('../data/Library_Usage.csv')\n",
    "\n",
    "# Filter BibliothekskundInnen, die sich 2010 registriert haben und 2016 noch aktiv sind\n",
    "row_filter = (df['Year Patron Registered'] == 2010) & (df['Circulation Active Year'] == 2016)\n",
    "df_interf = df.loc[row_filter]\n",
    "df_interf['Patron Type Definition'].unique()"
   ]
  },
  {
   "cell_type": "code",
   "execution_count": 2,
   "id": "3748873b",
   "metadata": {},
   "outputs": [],
   "source": [
    "# Series der Total Checkouts erstellen für jeweils Patron Type Definition 'Teen' und 'Senior'\n",
    "row_filter_young = df_interf['Patron Type Definition'] == 'Teen'\n",
    "row_filter_senior = df_interf['Patron Type Definition'] == 'Senior'\n",
    "\n",
    "df_young = df_interf.loc[row_filter_young]\n",
    "df_senior = df_interf.loc[row_filter_senior]\n",
    "\n",
    "# Wieviele Beobachtungen sind in den Subpopulationen?\n",
    "# Deren Mittelwerte (Median)?\n",
    "# Bestehen signifikante Unterschiede?"
   ]
  },
  {
   "cell_type": "code",
   "execution_count": 3,
   "id": "f68ce5d4",
   "metadata": {},
   "outputs": [
    {
     "data": {
      "text/plain": [
       "count      55.000000\n",
       "mean      194.654545\n",
       "std       323.536604\n",
       "min         3.000000\n",
       "25%        32.500000\n",
       "50%        63.000000\n",
       "75%       213.500000\n",
       "max      1588.000000\n",
       "Name: Total Checkouts, dtype: float64"
      ]
     },
     "execution_count": 3,
     "metadata": {},
     "output_type": "execute_result"
    }
   ],
   "source": [
    "df_young['Total Checkouts'].describe()"
   ]
  },
  {
   "cell_type": "code",
   "execution_count": 4,
   "id": "5a23ab3c",
   "metadata": {},
   "outputs": [
    {
     "data": {
      "text/plain": [
       "count      2.000000\n",
       "mean      56.000000\n",
       "std       79.195959\n",
       "min        0.000000\n",
       "25%       28.000000\n",
       "50%       56.000000\n",
       "75%       84.000000\n",
       "max      112.000000\n",
       "Name: Total Checkouts, dtype: float64"
      ]
     },
     "execution_count": 4,
     "metadata": {},
     "output_type": "execute_result"
    }
   ],
   "source": [
    "df_senior['Total Checkouts'].describe()"
   ]
  },
  {
   "cell_type": "code",
   "execution_count": 5,
   "id": "deef334e",
   "metadata": {},
   "outputs": [],
   "source": [
    "# Berechne das Konfidenzinterval für die Differenz der Mediane mit dem Bootstrapping-Verfahren. \n",
    "# Signifikanz-Niveau alpha = 0.01"
   ]
  },
  {
   "cell_type": "code",
   "execution_count": 6,
   "id": "a2f0af32",
   "metadata": {},
   "outputs": [],
   "source": [
    "# Unterscheiden sich die Mittelwerte?"
   ]
  },
  {
   "cell_type": "code",
   "execution_count": 7,
   "id": "70bd83bd",
   "metadata": {},
   "outputs": [],
   "source": [
    "# Wie ändert sich das Ergebnis, wenn du das Signifikanz-Niveau änderst?"
   ]
  },
  {
   "cell_type": "markdown",
   "id": "a4d1e4b8",
   "metadata": {},
   "source": [
    "### 4.1 Bootstrapping-Verfahren"
   ]
  },
  {
   "cell_type": "code",
   "execution_count": 8,
   "id": "65ca0777",
   "metadata": {},
   "outputs": [
    {
     "data": {
      "text/plain": [
       "count     81.000000\n",
       "mean      29.135802\n",
       "std       73.780714\n",
       "min        0.000000\n",
       "25%        0.000000\n",
       "50%        3.000000\n",
       "75%       23.000000\n",
       "max      469.000000\n",
       "Name: Total Renewals, dtype: float64"
      ]
     },
     "execution_count": 8,
     "metadata": {},
     "output_type": "execute_result"
    }
   ],
   "source": [
    "df_interf['Total Renewals'].describe()"
   ]
  },
  {
   "cell_type": "code",
   "execution_count": 9,
   "id": "35a4415e",
   "metadata": {},
   "outputs": [
    {
     "data": {
      "text/plain": [
       "<seaborn.axisgrid.FacetGrid at 0x7fc8324c0760>"
      ]
     },
     "execution_count": 9,
     "metadata": {},
     "output_type": "execute_result"
    },
    {
     "data": {
      "image/png": "[encoded data removed]",
      "text/plain": [
       "<Figure size 500x500 with 1 Axes>"
      ]
     },
     "metadata": {},
     "output_type": "display_data"
    }
   ],
   "source": [
    "x = df_interf['Total Renewals']\n",
    "x.sample(n=len(x),replace=True)\n",
    "\n",
    "x_means = []\n",
    "S = 10000\n",
    "for i in range(S):\n",
    "    x_mean = x.sample(n=len(x),replace=True).mean()\n",
    "    x_means.append(x_mean)\n",
    "\n",
    "sns.displot(x_means,kde=False,bins=35)\n"
   ]
  },
  {
   "cell_type": "code",
   "execution_count": 10,
   "id": "8ea564dc",
   "metadata": {},
   "outputs": [
    {
     "data": {
      "text/plain": [
       "0.0"
      ]
     },
     "execution_count": 10,
     "metadata": {},
     "output_type": "execute_result"
    }
   ],
   "source": [
    "x_means = pd.Series(x_means)\n",
    "x_means.between(89,92).mean()"
   ]
  },
  {
   "cell_type": "code",
   "execution_count": 11,
   "id": "f20befed",
   "metadata": {},
   "outputs": [],
   "source": [
    "# Wie groß muss man das Intervall wählen, so dass 90% aller Bootstrapping-Mittelwerte darin liegen? pd.Series.quantile"
   ]
  },
  {
   "cell_type": "markdown",
   "id": "293701cf",
   "metadata": {},
   "source": [
    "### 4.2 Konfidenz und Signifikanz"
   ]
  },
  {
   "cell_type": "code",
   "execution_count": 20,
   "id": "d5657021",
   "metadata": {},
   "outputs": [],
   "source": [
    "# Berechne ein 90%-Konfidenzintervall jeweils für den Mittelwert und den Median der Variablen Total Renewals und Total Checkouts"
   ]
  },
  {
   "cell_type": "markdown",
   "id": "fc665293",
   "metadata": {},
   "source": [
    "### Beispiele aus dem Skript"
   ]
  },
  {
   "cell_type": "code",
   "execution_count": 12,
   "id": "f0d0f6ff",
   "metadata": {},
   "outputs": [
    {
     "data": {
      "text/plain": [
       "11.857142857142858"
      ]
     },
     "execution_count": 12,
     "metadata": {},
     "output_type": "execute_result"
    }
   ],
   "source": [
    "import pandas as pd\n",
    "x = pd.Series([21,13,8,14,10,12,5])\n",
    "x.mean()"
   ]
  },
  {
   "cell_type": "code",
   "execution_count": 13,
   "id": "6d950d24",
   "metadata": {},
   "outputs": [
    {
     "data": {
      "text/plain": [
       "4    10\n",
       "4    10\n",
       "2     8\n",
       "0    21\n",
       "1    13\n",
       "1    13\n",
       "3    14\n",
       "dtype: int64"
      ]
     },
     "execution_count": 13,
     "metadata": {},
     "output_type": "execute_result"
    }
   ],
   "source": [
    "# simulierte Bootstrapping-Stichprobe\n",
    "x.sample(n=len(x),replace=True)"
   ]
  },
  {
   "cell_type": "code",
   "execution_count": 14,
   "id": "54093452",
   "metadata": {},
   "outputs": [],
   "source": [
    "# Anzahl der Simulationen S = 10000\n",
    "x_means = []\n",
    "S = 10000\n",
    "for i in range(S):\n",
    "    x_mean = x.sample(n=len(x),replace=True).mean()\n",
    "    x_means.append(x_mean)"
   ]
  },
  {
   "cell_type": "code",
   "execution_count": 15,
   "id": "898b6c68",
   "metadata": {},
   "outputs": [
    {
     "data": {
      "text/plain": [
       "<seaborn.axisgrid.FacetGrid at 0x7fc8324c0e20>"
      ]
     },
     "execution_count": 15,
     "metadata": {},
     "output_type": "execute_result"
    },
    {
     "data": {
      "image/png": "[encoded data removed]",
      "text/plain": [
       "<Figure size 500x500 with 1 Axes>"
      ]
     },
     "metadata": {},
     "output_type": "display_data"
    }
   ],
   "source": [
    "%matplotlib inline\n",
    "import seaborn as sns\n",
    "sns.set()\n",
    "sns.displot(x_means,kde=False,bins=35)"
   ]
  },
  {
   "cell_type": "code",
   "execution_count": 16,
   "id": "e7f83bf6",
   "metadata": {},
   "outputs": [
    {
     "data": {
      "text/plain": [
       "0.2989"
      ]
     },
     "execution_count": 16,
     "metadata": {},
     "output_type": "execute_result"
    }
   ],
   "source": [
    "x_means = pd.Series(x_means)\n",
    "x_means.between(9,11).mean()"
   ]
  },
  {
   "cell_type": "markdown",
   "id": "2fd9a58a",
   "metadata": {},
   "source": [
    "#### Konfidenzintervalle und Signifikanz"
   ]
  },
  {
   "cell_type": "code",
   "execution_count": 17,
   "id": "e0d1787a",
   "metadata": {},
   "outputs": [
    {
     "data": {
      "text/plain": [
       "0.05     9.000000\n",
       "0.95    14.714286\n",
       "dtype: float64"
      ]
     },
     "execution_count": 17,
     "metadata": {},
     "output_type": "execute_result"
    }
   ],
   "source": [
    "x_means = pd.Series(x_means)\n",
    "alpha = 0.10\n",
    "x_means.quantile((alpha/2,1-alpha/2))"
   ]
  },
  {
   "cell_type": "markdown",
   "id": "f890d434",
   "metadata": {},
   "source": [
    "#### Mittelwertvergleiche"
   ]
  },
  {
   "cell_type": "code",
   "execution_count": 18,
   "id": "7ca2a519",
   "metadata": {},
   "outputs": [
    {
     "name": "stdout",
     "output_type": "stream",
     "text": [
      "(4.5, 6.5)\n"
     ]
    }
   ],
   "source": [
    "import pandas as pd\n",
    "\n",
    "alpha = 0.05\n",
    "S = 10000\n",
    "x = pd.Series([3,3,5,8,7,3,2,5,8,1])\n",
    "y = pd.Series([3,10,9,8,2,3,6,7,11,6])\n",
    "\n",
    "print((x.mean(),y.mean()))"
   ]
  },
  {
   "cell_type": "code",
   "execution_count": 19,
   "id": "344b2a75",
   "metadata": {},
   "outputs": [
    {
     "data": {
      "text/plain": [
       "0.025   -4.3\n",
       "0.975    0.4\n",
       "dtype: float64"
      ]
     },
     "execution_count": 19,
     "metadata": {},
     "output_type": "execute_result"
    }
   ],
   "source": [
    "dxy = []\n",
    "for i in range(S):\n",
    "    x_mean = x.sample(n=len(x),replace=True).mean()\n",
    "    y_mean = y.sample(n=len(y),replace=True).mean()\n",
    "    dxy.append(x_mean - y_mean)\n",
    "    \n",
    "pd.Series(dxy).quantile((alpha/2,1-alpha/2))"
   ]
  },
  {
   "cell_type": "code",
   "execution_count": null,
   "id": "1cdf3fb9",
   "metadata": {},
   "outputs": [],
   "source": []
  }
 ],
 "metadata": {
  "kernelspec": {
   "display_name": "Python 3 (ipykernel)",
   "language": "python",
   "name": "python3"
  },
  "language_info": {
   "codemirror_mode": {
    "name": "ipython",
    "version": 3
   },
   "file_extension": ".py",
   "mimetype": "text/x-python",
   "name": "python",
   "nbconvert_exporter": "python",
   "pygments_lexer": "ipython3",
   "version": "3.9.13"
  }
 },
 "nbformat": 4,
 "nbformat_minor": 5
}
