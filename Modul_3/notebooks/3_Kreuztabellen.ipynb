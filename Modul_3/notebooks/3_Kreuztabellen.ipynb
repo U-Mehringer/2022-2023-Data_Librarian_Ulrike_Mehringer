{
 "cells": [
  {
   "cell_type": "markdown",
   "id": "6dbf5395",
   "metadata": {},
   "source": [
    "## 3. Kreuztabellen"
   ]
  },
  {
   "cell_type": "code",
   "execution_count": 1,
   "id": "526d7c94",
   "metadata": {},
   "outputs": [],
   "source": [
    "import pandas as pd\n",
    "df = pd.read_csv(\"../data/Library_Usage.csv\",na_values=\"none\")"
   ]
  },
  {
   "cell_type": "code",
   "execution_count": 2,
   "id": "a5781e93",
   "metadata": {},
   "outputs": [
    {
     "data": {
      "text/html": [
       "<div>\n",
       "<style scoped>\n",
       "    .dataframe tbody tr th:only-of-type {\n",
       "        vertical-align: middle;\n",
       "    }\n",
       "\n",
       "    .dataframe tbody tr th {\n",
       "        vertical-align: top;\n",
       "    }\n",
       "\n",
       "    .dataframe thead th {\n",
       "        text-align: right;\n",
       "    }\n",
       "</style>\n",
       "<table border=\"1\" class=\"dataframe\">\n",
       "  <thead>\n",
       "    <tr style=\"text-align: right;\">\n",
       "      <th>Notice Preference Definition</th>\n",
       "      <th>Email</th>\n",
       "      <th>None</th>\n",
       "      <th>Phone</th>\n",
       "      <th>Print</th>\n",
       "      <th>All</th>\n",
       "    </tr>\n",
       "    <tr>\n",
       "      <th>Provided Email Address</th>\n",
       "      <th></th>\n",
       "      <th></th>\n",
       "      <th></th>\n",
       "      <th></th>\n",
       "      <th></th>\n",
       "    </tr>\n",
       "  </thead>\n",
       "  <tbody>\n",
       "    <tr>\n",
       "      <th>False</th>\n",
       "      <td>476</td>\n",
       "      <td>2668</td>\n",
       "      <td>35235</td>\n",
       "      <td>7173</td>\n",
       "      <td>45552</td>\n",
       "    </tr>\n",
       "    <tr>\n",
       "      <th>True</th>\n",
       "      <td>391138</td>\n",
       "      <td>32</td>\n",
       "      <td>324</td>\n",
       "      <td>69</td>\n",
       "      <td>391563</td>\n",
       "    </tr>\n",
       "    <tr>\n",
       "      <th>All</th>\n",
       "      <td>391614</td>\n",
       "      <td>2700</td>\n",
       "      <td>35559</td>\n",
       "      <td>7242</td>\n",
       "      <td>437115</td>\n",
       "    </tr>\n",
       "  </tbody>\n",
       "</table>\n",
       "</div>"
      ],
      "text/plain": [
       "Notice Preference Definition   Email  None  Phone  Print     All\n",
       "Provided Email Address                                          \n",
       "False                            476  2668  35235   7173   45552\n",
       "True                          391138    32    324     69  391563\n",
       "All                           391614  2700  35559   7242  437115"
      ]
     },
     "execution_count": 2,
     "metadata": {},
     "output_type": "execute_result"
    }
   ],
   "source": [
    "pd.crosstab(df['Provided Email Address'],df['Notice Preference Definition'],margins=True)"
   ]
  },
  {
   "cell_type": "code",
   "execution_count": 3,
   "id": "24313018",
   "metadata": {},
   "outputs": [
    {
     "data": {
      "text/html": [
       "<div>\n",
       "<style scoped>\n",
       "    .dataframe tbody tr th:only-of-type {\n",
       "        vertical-align: middle;\n",
       "    }\n",
       "\n",
       "    .dataframe tbody tr th {\n",
       "        vertical-align: top;\n",
       "    }\n",
       "\n",
       "    .dataframe thead th {\n",
       "        text-align: right;\n",
       "    }\n",
       "</style>\n",
       "<table border=\"1\" class=\"dataframe\">\n",
       "  <thead>\n",
       "    <tr style=\"text-align: right;\">\n",
       "      <th>Notice Preference Definition</th>\n",
       "      <th>Email</th>\n",
       "      <th>None</th>\n",
       "      <th>Phone</th>\n",
       "      <th>Print</th>\n",
       "      <th>All</th>\n",
       "    </tr>\n",
       "    <tr>\n",
       "      <th>Provided Email Address</th>\n",
       "      <th></th>\n",
       "      <th></th>\n",
       "      <th></th>\n",
       "      <th></th>\n",
       "      <th></th>\n",
       "    </tr>\n",
       "  </thead>\n",
       "  <tbody>\n",
       "    <tr>\n",
       "      <th>False</th>\n",
       "      <td>0.001215</td>\n",
       "      <td>0.988148</td>\n",
       "      <td>0.990888</td>\n",
       "      <td>0.990472</td>\n",
       "      <td>0.104211</td>\n",
       "    </tr>\n",
       "    <tr>\n",
       "      <th>True</th>\n",
       "      <td>0.998785</td>\n",
       "      <td>0.011852</td>\n",
       "      <td>0.009112</td>\n",
       "      <td>0.009528</td>\n",
       "      <td>0.895789</td>\n",
       "    </tr>\n",
       "  </tbody>\n",
       "</table>\n",
       "</div>"
      ],
      "text/plain": [
       "Notice Preference Definition     Email      None     Phone     Print       All\n",
       "Provided Email Address                                                        \n",
       "False                         0.001215  0.988148  0.990888  0.990472  0.104211\n",
       "True                          0.998785  0.011852  0.009112  0.009528  0.895789"
      ]
     },
     "execution_count": 3,
     "metadata": {},
     "output_type": "execute_result"
    }
   ],
   "source": [
    "# Normalisierung der Spalten mit normalize=1\n",
    "pd.crosstab(df['Provided Email Address'],df['Notice Preference Definition'],margins=True,normalize=1)"
   ]
  },
  {
   "cell_type": "code",
   "execution_count": 4,
   "id": "6628b6ab",
   "metadata": {},
   "outputs": [
    {
     "data": {
      "text/html": [
       "<div>\n",
       "<style scoped>\n",
       "    .dataframe tbody tr th:only-of-type {\n",
       "        vertical-align: middle;\n",
       "    }\n",
       "\n",
       "    .dataframe tbody tr th {\n",
       "        vertical-align: top;\n",
       "    }\n",
       "\n",
       "    .dataframe thead th {\n",
       "        text-align: right;\n",
       "    }\n",
       "</style>\n",
       "<table border=\"1\" class=\"dataframe\">\n",
       "  <thead>\n",
       "    <tr style=\"text-align: right;\">\n",
       "      <th>Notice Preference Definition</th>\n",
       "      <th>Email</th>\n",
       "      <th>None</th>\n",
       "      <th>Phone</th>\n",
       "      <th>Print</th>\n",
       "    </tr>\n",
       "    <tr>\n",
       "      <th>Provided Email Address</th>\n",
       "      <th></th>\n",
       "      <th></th>\n",
       "      <th></th>\n",
       "      <th></th>\n",
       "    </tr>\n",
       "  </thead>\n",
       "  <tbody>\n",
       "    <tr>\n",
       "      <th>False</th>\n",
       "      <td>0.010450</td>\n",
       "      <td>0.058570</td>\n",
       "      <td>0.773512</td>\n",
       "      <td>0.157468</td>\n",
       "    </tr>\n",
       "    <tr>\n",
       "      <th>True</th>\n",
       "      <td>0.998915</td>\n",
       "      <td>0.000082</td>\n",
       "      <td>0.000827</td>\n",
       "      <td>0.000176</td>\n",
       "    </tr>\n",
       "    <tr>\n",
       "      <th>All</th>\n",
       "      <td>0.895906</td>\n",
       "      <td>0.006177</td>\n",
       "      <td>0.081349</td>\n",
       "      <td>0.016568</td>\n",
       "    </tr>\n",
       "  </tbody>\n",
       "</table>\n",
       "</div>"
      ],
      "text/plain": [
       "Notice Preference Definition     Email      None     Phone     Print\n",
       "Provided Email Address                                              \n",
       "False                         0.010450  0.058570  0.773512  0.157468\n",
       "True                          0.998915  0.000082  0.000827  0.000176\n",
       "All                           0.895906  0.006177  0.081349  0.016568"
      ]
     },
     "execution_count": 4,
     "metadata": {},
     "output_type": "execute_result"
    }
   ],
   "source": [
    "# Normalisierung der Zeilen mit normalize=0\n",
    "pd.crosstab(df['Provided Email Address'],df['Notice Preference Definition'],margins=True,normalize=0)"
   ]
  },
  {
   "cell_type": "code",
   "execution_count": null,
   "id": "bd436ceb",
   "metadata": {},
   "outputs": [],
   "source": []
  }
 ],
 "metadata": {
  "kernelspec": {
   "display_name": "Python 3 (ipykernel)",
   "language": "python",
   "name": "python3"
  },
  "language_info": {
   "codemirror_mode": {
    "name": "ipython",
    "version": 3
   },
   "file_extension": ".py",
   "mimetype": "text/x-python",
   "name": "python",
   "nbconvert_exporter": "python",
   "pygments_lexer": "ipython3",
   "version": "3.9.13"
  }
 },
 "nbformat": 4,
 "nbformat_minor": 5
}
