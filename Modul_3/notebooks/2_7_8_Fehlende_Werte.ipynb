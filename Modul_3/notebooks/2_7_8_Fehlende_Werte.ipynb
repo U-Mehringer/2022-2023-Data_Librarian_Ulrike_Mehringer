{
 "cells": [
  {
   "cell_type": "markdown",
   "id": "d2b06cff",
   "metadata": {},
   "source": [
    "## 2.7 und 2.8 Fehlende Werte"
   ]
  },
  {
   "cell_type": "markdown",
   "id": "4ae718c0",
   "metadata": {},
   "source": [
    "### Aufgabe 2.8: wieviele Spalten mit fehlenden Werten, erstelle Dataframe ohne Zeilen mit fehlenden Werten, wieviele Zeilen wurden entfernt?"
   ]
  },
  {
   "cell_type": "code",
   "execution_count": 62,
   "id": "124f665a",
   "metadata": {},
   "outputs": [
    {
     "data": {
      "text/plain": [
       "Patron Type Code                437115\n",
       "Patron Type Definition          437115\n",
       "Total Checkouts                 437115\n",
       "Total Renewals                  437115\n",
       "Age Range                       436188\n",
       "Home Library Code               437113\n",
       "Home Library Definition         437115\n",
       "Circulation Active Month        396523\n",
       "Circulation Active Year         396523\n",
       "Notice Preference Code          437115\n",
       "Notice Preference Definition    437115\n",
       "Provided Email Address          437115\n",
       "Year Patron Registered          437115\n",
       "Within San Francisco County     437115\n",
       "dtype: int64"
      ]
     },
     "execution_count": 62,
     "metadata": {},
     "output_type": "execute_result"
    }
   ],
   "source": [
    "import pandas as pd\n",
    "df = pd.read_csv(\"../data/Library_Usage.csv\")\n",
    "anzahl1 = df.count()\n",
    "anzahl1"
   ]
  },
  {
   "cell_type": "code",
   "execution_count": 63,
   "id": "f8fed93b",
   "metadata": {},
   "outputs": [
    {
     "data": {
      "text/plain": [
       "Patron Type Code                    0\n",
       "Patron Type Definition              0\n",
       "Total Checkouts                     0\n",
       "Total Renewals                      0\n",
       "Age Range                         927\n",
       "Home Library Code                   2\n",
       "Home Library Definition             0\n",
       "Circulation Active Month        40592\n",
       "Circulation Active Year         40592\n",
       "Notice Preference Code              0\n",
       "Notice Preference Definition        0\n",
       "Provided Email Address              0\n",
       "Year Patron Registered              0\n",
       "Within San Francisco County         0\n",
       "dtype: int64"
      ]
     },
     "execution_count": 63,
     "metadata": {},
     "output_type": "execute_result"
    }
   ],
   "source": [
    "df.isna().sum()\n",
    "# 4 Spalten mit fehlenden Werten"
   ]
  },
  {
   "cell_type": "code",
   "execution_count": 64,
   "id": "a1680219",
   "metadata": {},
   "outputs": [
    {
     "data": {
      "text/plain": [
       "Patron Type Code                395772\n",
       "Patron Type Definition          395772\n",
       "Total Checkouts                 395772\n",
       "Total Renewals                  395772\n",
       "Age Range                       395772\n",
       "Home Library Code               395772\n",
       "Home Library Definition         395772\n",
       "Circulation Active Month        395772\n",
       "Circulation Active Year         395772\n",
       "Notice Preference Code          395772\n",
       "Notice Preference Definition    395772\n",
       "Provided Email Address          395772\n",
       "Year Patron Registered          395772\n",
       "Within San Francisco County     395772\n",
       "dtype: int64"
      ]
     },
     "execution_count": 64,
     "metadata": {},
     "output_type": "execute_result"
    }
   ],
   "source": [
    "# 41343 Zeile wurden entfernt (???)\n",
    "df = df.dropna()\n",
    "df.to_csv(\"../data/Library_Usage_Clean.csv\")\n",
    "anzahl2 = df.count()\n",
    "anzahl2"
   ]
  },
  {
   "cell_type": "code",
   "execution_count": 65,
   "id": "79727e78",
   "metadata": {},
   "outputs": [
    {
     "data": {
      "text/plain": [
       "Patron Type Code                41343\n",
       "Patron Type Definition          41343\n",
       "Total Checkouts                 41343\n",
       "Total Renewals                  41343\n",
       "Age Range                       40416\n",
       "Home Library Code               41341\n",
       "Home Library Definition         41343\n",
       "Circulation Active Month          751\n",
       "Circulation Active Year           751\n",
       "Notice Preference Code          41343\n",
       "Notice Preference Definition    41343\n",
       "Provided Email Address          41343\n",
       "Year Patron Registered          41343\n",
       "Within San Francisco County     41343\n",
       "dtype: int64"
      ]
     },
     "execution_count": 65,
     "metadata": {},
     "output_type": "execute_result"
    }
   ],
   "source": [
    "anzahl3 = anzahl1 - anzahl2\n",
    "anzahl3"
   ]
  },
  {
   "cell_type": "markdown",
   "id": "acddec17",
   "metadata": {},
   "source": [
    "### Beispiele aus dem Skript"
   ]
  },
  {
   "cell_type": "code",
   "execution_count": 66,
   "id": "90f96fe9",
   "metadata": {},
   "outputs": [
    {
     "data": {
      "text/plain": [
       "0            NaN\n",
       "1            NaN\n",
       "2            NaN\n",
       "3            NaN\n",
       "4            NaN\n",
       "           ...  \n",
       "437110    2004.0\n",
       "437111    2004.0\n",
       "437112    2004.0\n",
       "437113    2004.0\n",
       "437114    2004.0\n",
       "Name: Circulation Active Year, Length: 437115, dtype: float64"
      ]
     },
     "execution_count": 66,
     "metadata": {},
     "output_type": "execute_result"
    }
   ],
   "source": [
    "# fehlende Werte bereinigen beim Einlesen\n",
    "import pandas as pd\n",
    "\n",
    "df = pd.read_csv(\"../data/Library_Usage.csv\",na_values=\"None\")\n",
    "df['Circulation Active Year']"
   ]
  },
  {
   "cell_type": "code",
   "execution_count": 67,
   "id": "6714a43d",
   "metadata": {},
   "outputs": [
    {
     "data": {
      "text/plain": [
       "0            NaN\n",
       "1            NaN\n",
       "2            NaN\n",
       "3            NaN\n",
       "4            NaN\n",
       "           ...  \n",
       "437110    2004.0\n",
       "437111    2004.0\n",
       "437112    2004.0\n",
       "437113    2004.0\n",
       "437114    2004.0\n",
       "Name: Circulation Active Year, Length: 437115, dtype: float64"
      ]
     },
     "execution_count": 67,
     "metadata": {},
     "output_type": "execute_result"
    }
   ],
   "source": [
    "# explizite Umwandlung nach dem Einlesen\n",
    "df = pd.read_csv(\"../data/Library_Usage.csv\")\n",
    "df['Circulaton Active Year'] = pd.to_numeric(df['Circulation Active Year'], errors='coerce')\n",
    "df['Circulation Active Year']"
   ]
  },
  {
   "cell_type": "code",
   "execution_count": 68,
   "id": "d1807ce3",
   "metadata": {},
   "outputs": [
    {
     "data": {
      "text/plain": [
       "Patron Type Code                    0\n",
       "Patron Type Definition              0\n",
       "Total Checkouts                     0\n",
       "Total Renewals                      0\n",
       "Age Range                         927\n",
       "Home Library Code                   2\n",
       "Home Library Definition             0\n",
       "Circulation Active Month        40592\n",
       "Circulation Active Year         40592\n",
       "Notice Preference Code              0\n",
       "Notice Preference Definition        0\n",
       "Provided Email Address              0\n",
       "Year Patron Registered              0\n",
       "Within San Francisco County         0\n",
       "Circulaton Active Year          40592\n",
       "dtype: int64"
      ]
     },
     "execution_count": 68,
     "metadata": {},
     "output_type": "execute_result"
    }
   ],
   "source": [
    "df[df['Age Range'].isna()]\n",
    "\n",
    "#Anzahl fehlender Werte in jeder Spalte ausgeben\n",
    "df.isna().sum()"
   ]
  },
  {
   "cell_type": "code",
   "execution_count": null,
   "id": "7f91b450",
   "metadata": {},
   "outputs": [],
   "source": [
    "# Entfernen\n",
    "# drops all rows containing at least one missing value\n",
    "df.dropna()\n",
    "# drops all missing values in this series\n",
    "df['Age Range'].dropna()"
   ]
  },
  {
   "cell_type": "code",
   "execution_count": null,
   "id": "5be8e13f",
   "metadata": {},
   "outputs": [],
   "source": [
    "# Ersetzen\n",
    "df['Age Range'].fillna(\"keine Angabe\")"
   ]
  },
  {
   "cell_type": "code",
   "execution_count": null,
   "id": "c1c71de7",
   "metadata": {},
   "outputs": [],
   "source": []
  },
  {
   "cell_type": "code",
   "execution_count": null,
   "id": "fac06e6f",
   "metadata": {},
   "outputs": [],
   "source": []
  }
 ],
 "metadata": {
  "kernelspec": {
   "display_name": "Python 3 (ipykernel)",
   "language": "python",
   "name": "python3"
  },
  "language_info": {
   "codemirror_mode": {
    "name": "ipython",
    "version": 3
   },
   "file_extension": ".py",
   "mimetype": "text/x-python",
   "name": "python",
   "nbconvert_exporter": "python",
   "pygments_lexer": "ipython3",
   "version": "3.9.13"
  }
 },
 "nbformat": 4,
 "nbformat_minor": 5
}
