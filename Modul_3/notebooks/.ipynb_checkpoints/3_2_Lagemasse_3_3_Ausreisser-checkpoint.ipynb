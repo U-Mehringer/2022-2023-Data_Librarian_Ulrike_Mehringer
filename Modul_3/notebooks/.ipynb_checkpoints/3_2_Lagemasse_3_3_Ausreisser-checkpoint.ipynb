{
 "cells": [
  {
   "cell_type": "markdown",
   "id": "e8537def",
   "metadata": {},
   "source": [
    "## 3.2 Lagemaße\n",
    "## 3.3 Ausreißer"
   ]
  },
  {
   "cell_type": "markdown",
   "id": "3af8e9a6",
   "metadata": {},
   "source": [
    "### Aufgabe 3.2"
   ]
  },
  {
   "cell_type": "markdown",
   "id": "3841ed36",
   "metadata": {},
   "source": [
    "Mittelwert Total_Checkouts: 161.09\n",
    "Median Total_Checkouts: 7.0\n",
    "\n",
    "Der Mittelwert ist präziser, aber anfälliger gegen Ausreißer = hohe Effizienz, geringe Robustheit\n",
    "Der Median ist unpräsizer, aber weniger anfällig bei Ausreißern = geringe Effizienz, hohe Robustheit\n",
    "\n",
    "Wenn die Werteverteilung deutlich links- oder rechtsschief ist, kann der Median die bessere/realistischere Zahl liefern.\n",
    "\n"
   ]
  },
  {
   "cell_type": "markdown",
   "id": "828617e0",
   "metadata": {},
   "source": [
    "### Aufgabe 3.3"
   ]
  },
  {
   "cell_type": "code",
   "execution_count": 1,
   "id": "dfcddff1",
   "metadata": {},
   "outputs": [
    {
     "name": "stdout",
     "output_type": "stream",
     "text": [
      "437115\n"
     ]
    }
   ],
   "source": [
    "import pandas as pd\n",
    "df = pd.read_csv(\"../data/Library_Usage.csv\")\n",
    "\n",
    "# Quantil 1.5% größten Werte, dh 98.5% kleiner als das gesuchte:\n",
    "df['Total Checkouts'].quantile(q=[0.985])\n",
    "print(len(df))"
   ]
  },
  {
   "cell_type": "code",
   "execution_count": 2,
   "id": "48e9abb5",
   "metadata": {},
   "outputs": [
    {
     "name": "stdout",
     "output_type": "stream",
     "text": [
      "430558\n"
     ]
    }
   ],
   "source": [
    "# Ausreißer entfernen:\n",
    "df_spikeless = df.drop(df[df['Total Checkouts']>1961.0].index)\n",
    "print(len(df_spikeless))"
   ]
  },
  {
   "cell_type": "markdown",
   "id": "c7f883ec",
   "metadata": {},
   "source": [
    "Ausreißer können auch durch eine grafische Analyse sichtbar gemacht werden.\n",
    "Zunächst sollte abgeklärt werden, ob ein Fehler bei der Datenerhebung oder Datenerfassung vorliegt. Eventuell kann der Wert korrigiert werden. Dann klären, ob der Wert plausibel ist bzw. ob die Beobachtung für die Fragestellung relevant ist. Dann könnte noch der Abstand der Ausreißer zum Durchschnitt der Nicht-Ausreißer untersucht werden.\n",
    "Danach entscheiden, ob die Werte für die weitere Untersuchung behalten oder ausgeschlossen werden sollen."
   ]
  },
  {
   "cell_type": "markdown",
   "id": "451d1a26",
   "metadata": {},
   "source": [
    "### Beispiele aus dem Skript"
   ]
  },
  {
   "cell_type": "code",
   "execution_count": 3,
   "id": "e7778471",
   "metadata": {},
   "outputs": [],
   "source": [
    "import pandas as pd\n",
    "df = pd.read_csv(\"../data/Library_Usage.csv\")"
   ]
  },
  {
   "cell_type": "code",
   "execution_count": 4,
   "id": "5f1ff6ea",
   "metadata": {},
   "outputs": [
    {
     "data": {
      "text/plain": [
       "161.08505542019836"
      ]
     },
     "execution_count": 4,
     "metadata": {},
     "output_type": "execute_result"
    }
   ],
   "source": [
    "# Mittelwert:\n",
    "df['Total Checkouts'].mean()"
   ]
  },
  {
   "cell_type": "code",
   "execution_count": 5,
   "id": "a42a0b82",
   "metadata": {},
   "outputs": [
    {
     "data": {
      "text/plain": [
       "7.0"
      ]
     },
     "execution_count": 5,
     "metadata": {},
     "output_type": "execute_result"
    }
   ],
   "source": [
    "# Median:\n",
    "df['Total Checkouts'].median()"
   ]
  },
  {
   "cell_type": "code",
   "execution_count": 6,
   "id": "c4851986",
   "metadata": {},
   "outputs": [
    {
     "data": {
      "text/plain": [
       "0.25     0.0\n",
       "0.50     7.0\n",
       "0.75    81.0\n",
       "Name: Total Checkouts, dtype: float64"
      ]
     },
     "execution_count": 6,
     "metadata": {},
     "output_type": "execute_result"
    }
   ],
   "source": [
    "# Quantile\n",
    "df['Total Checkouts'].quantile(q=[0.25,0.5,0.75])"
   ]
  },
  {
   "cell_type": "code",
   "execution_count": 7,
   "id": "db9f827f",
   "metadata": {},
   "outputs": [
    {
     "data": {
      "text/plain": [
       "0.005       0.0\n",
       "0.995    3313.0\n",
       "Name: Total Checkouts, dtype: float64"
      ]
     },
     "execution_count": 7,
     "metadata": {},
     "output_type": "execute_result"
    }
   ],
   "source": [
    "# Quantil 5% an beiden Enden der Verteilung\n",
    "alpha = 0.005\n",
    "df['Total Checkouts'].quantile([alpha,1-alpha])"
   ]
  },
  {
   "cell_type": "code",
   "execution_count": null,
   "id": "e41ae2a2",
   "metadata": {},
   "outputs": [],
   "source": []
  },
  {
   "cell_type": "code",
   "execution_count": null,
   "id": "e3c7fe86",
   "metadata": {},
   "outputs": [],
   "source": []
  },
  {
   "cell_type": "code",
   "execution_count": null,
   "id": "dcd8070c",
   "metadata": {},
   "outputs": [],
   "source": []
  },
  {
   "cell_type": "code",
   "execution_count": null,
   "id": "75ea77c4",
   "metadata": {},
   "outputs": [],
   "source": []
  },
  {
   "cell_type": "code",
   "execution_count": null,
   "id": "d2291ebc",
   "metadata": {},
   "outputs": [],
   "source": []
  }
 ],
 "metadata": {
  "kernelspec": {
   "display_name": "Python 3 (ipykernel)",
   "language": "python",
   "name": "python3"
  },
  "language_info": {
   "codemirror_mode": {
    "name": "ipython",
    "version": 3
   },
   "file_extension": ".py",
   "mimetype": "text/x-python",
   "name": "python",
   "nbconvert_exporter": "python",
   "pygments_lexer": "ipython3",
   "version": "3.9.13"
  }
 },
 "nbformat": 4,
 "nbformat_minor": 5
}
