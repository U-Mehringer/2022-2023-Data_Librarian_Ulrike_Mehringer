{
 "cells": [
  {
   "cell_type": "markdown",
   "id": "c7f44564",
   "metadata": {},
   "source": [
    "## Scipy example"
   ]
  },
  {
   "cell_type": "code",
   "execution_count": 1,
   "id": "716cdd60",
   "metadata": {},
   "outputs": [],
   "source": [
    "# import the package stats from scipy\n",
    "from scipy import stats"
   ]
  },
  {
   "cell_type": "code",
   "execution_count": 2,
   "id": "3f5661bd",
   "metadata": {},
   "outputs": [],
   "source": [
    "# two numerical arrays\n",
    "x = [12,10,11,13,14,10,13,13,22]\n",
    "y = [1,4,2,3,5,2,1,0,0,1,2]"
   ]
  },
  {
   "cell_type": "code",
   "execution_count": 5,
   "id": "c99c2b01",
   "metadata": {},
   "outputs": [
    {
     "data": {
      "text/plain": [
       "Ttest_indResult(statistic=9.281138146360542, pvalue=2.7794419042727725e-08)"
      ]
     },
     "execution_count": 5,
     "metadata": {},
     "output_type": "execute_result"
    }
   ],
   "source": [
    "# two sample t-test = Zweistichproben-t-Test\n",
    "stats.ttest_ind(x,y)"
   ]
  },
  {
   "cell_type": "markdown",
   "id": "14dda5c6",
   "metadata": {},
   "source": [
    "##### Der Zweistichproben-t-Test ist ein Signifikanztest aus der mathematischen Statistik. In der üblichen Form prüft er anhand der Mittelwerte zweier Stichproben, ob die Mittelwerte zweier normalverteilter Grundgesamtheiten gleich oder verschieden voneinander sind.\n",
    "##### Der p-Wert, auch Signifikanzwert genannt, ist in der Statistik und dort insbesondere in der Testtheorie ein Evidenzmaß für die Glaubwürdigkeit der Nullhypothese, die oft besagt, dass ein bestimmter Zusammenhang NICHT besteht, z.B. ein neues Medikament NICHT wirksam ist. Ein kleiner p-Wert legt nahe, dass die Beobachtungen die Nullhypthese nicht stützen. \n",
    "-- wikipedia --"
   ]
  },
  {
   "cell_type": "code",
   "execution_count": null,
   "id": "e362fad1",
   "metadata": {},
   "outputs": [],
   "source": []
  }
 ],
 "metadata": {
  "kernelspec": {
   "display_name": "Python 3 (ipykernel)",
   "language": "python",
   "name": "python3"
  },
  "language_info": {
   "codemirror_mode": {
    "name": "ipython",
    "version": 3
   },
   "file_extension": ".py",
   "mimetype": "text/x-python",
   "name": "python",
   "nbconvert_exporter": "python",
   "pygments_lexer": "ipython3",
   "version": "3.9.13"
  }
 },
 "nbformat": 4,
 "nbformat_minor": 5
}
