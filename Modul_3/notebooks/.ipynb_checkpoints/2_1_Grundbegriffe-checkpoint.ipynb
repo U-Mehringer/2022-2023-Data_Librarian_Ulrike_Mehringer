{
 "cells": [
  {
   "cell_type": "markdown",
   "id": "3493d859",
   "metadata": {},
   "source": [
    "### 2.1 Grundbegriffe\n",
    "1. Anzahl der Merkmale: 14 oder 11\n",
    "2. Stichprobengröße: 437115\n",
    "3. Merkmalsträger: jede Zeile ist ein KundIn/BibliotheksbenutzerIn\n",
    "4. Erfassungszeitraum: Erfassungszeitraum: 2012-12-02 bis 2023-02-06\n",
    "5. Die Grundgesamtheit besteht aus aktiven BibliotheksnutzerInnen mit gültigem Ausweis, die in den letzten 3 Jahen Medien ausgeliehen hatten. Es handelt sich nicht um eine Vollerhebung aller BenutzerInnen.\n",
    "6. und \n",
    "7.\n",
    "###### Patron Type Code = diskret = ordinal\n",
    "###### Patron Type Definition = stetig = nominal\n",
    "###### Total Checkouts =  diskret = metrisch\n",
    "###### Total Renewals = diskret = metrisch\n",
    "###### Age Range =  quasi-stetig bzw. stetig gruppiert = ordinal \n",
    "###### Home Library Code = stetig = nominal\n",
    "###### Home Library Definition = stetig = nominal\n",
    "###### Circulation Active Month = diskret = nominal\n",
    "###### Circulation Active Year = diskret = metrisch\n",
    "###### Notice Preference Code = stetig = nominal\n",
    "###### Notice Preference Definition = stetig = nominal\n",
    "###### Provided Email Address = diskret = nominal\n",
    "###### Year Patron Registered = diskret = intervall\n",
    "###### Within San Francisco County = diskret = nominal\n",
    "8. Ja\n",
    "9. Längsschnittdaten (bei einer Panelerhebung müsste über den gesamten Zeitraum die gleiche Stichprobe/die gleichen Personen untersucht werden)."
   ]
  },
  {
   "cell_type": "code",
   "execution_count": 24,
   "id": "5b7de609",
   "metadata": {},
   "outputs": [],
   "source": [
    "import pandas as pd"
   ]
  },
  {
   "cell_type": "code",
   "execution_count": 25,
   "id": "319f7ede",
   "metadata": {},
   "outputs": [],
   "source": [
    "# Datensatz einlesen\n",
    "s_df = pd.read_csv('../data/Library_Usage.csv')"
   ]
  },
  {
   "cell_type": "code",
   "execution_count": 26,
   "id": "abb39c7c",
   "metadata": {},
   "outputs": [
    {
     "name": "stdout",
     "output_type": "stream",
     "text": [
      "<class 'pandas.core.frame.DataFrame'>\n",
      "RangeIndex: 437115 entries, 0 to 437114\n",
      "Data columns (total 14 columns):\n",
      " #   Column                        Non-Null Count   Dtype  \n",
      "---  ------                        --------------   -----  \n",
      " 0   Patron Type Code              437115 non-null  int64  \n",
      " 1   Patron Type Definition        437115 non-null  object \n",
      " 2   Total Checkouts               437115 non-null  int64  \n",
      " 3   Total Renewals                437115 non-null  int64  \n",
      " 4   Age Range                     436188 non-null  object \n",
      " 5   Home Library Code             437113 non-null  object \n",
      " 6   Home Library Definition       437115 non-null  object \n",
      " 7   Circulation Active Month      396523 non-null  object \n",
      " 8   Circulation Active Year       396523 non-null  float64\n",
      " 9   Notice Preference Code        437115 non-null  object \n",
      " 10  Notice Preference Definition  437115 non-null  object \n",
      " 11  Provided Email Address        437115 non-null  bool   \n",
      " 12  Year Patron Registered        437115 non-null  int64  \n",
      " 13  Within San Francisco County   437115 non-null  bool   \n",
      "dtypes: bool(2), float64(1), int64(4), object(7)\n",
      "memory usage: 40.9+ MB\n"
     ]
    }
   ],
   "source": [
    "# 1. Anzahl der Merkmale\n",
    "s_df.info()"
   ]
  },
  {
   "cell_type": "code",
   "execution_count": 27,
   "id": "218ec209",
   "metadata": {},
   "outputs": [
    {
     "name": "stdout",
     "output_type": "stream",
     "text": [
      "Stichprobengröße: 437115\n"
     ]
    }
   ],
   "source": [
    "# 2. Stichprobengröße des Datensatzes\n",
    "print (\"Stichprobengröße:\",len(s_df))\n"
   ]
  },
  {
   "cell_type": "code",
   "execution_count": 29,
   "id": "c7a669e4",
   "metadata": {},
   "outputs": [
    {
     "data": {
      "text/html": [
       "<div>\n",
       "<style scoped>\n",
       "    .dataframe tbody tr th:only-of-type {\n",
       "        vertical-align: middle;\n",
       "    }\n",
       "\n",
       "    .dataframe tbody tr th {\n",
       "        vertical-align: top;\n",
       "    }\n",
       "\n",
       "    .dataframe thead th {\n",
       "        text-align: right;\n",
       "    }\n",
       "</style>\n",
       "<table border=\"1\" class=\"dataframe\">\n",
       "  <thead>\n",
       "    <tr style=\"text-align: right;\">\n",
       "      <th></th>\n",
       "      <th>Patron Type Code</th>\n",
       "      <th>Total Checkouts</th>\n",
       "      <th>Total Renewals</th>\n",
       "      <th>Circulation Active Year</th>\n",
       "      <th>Year Patron Registered</th>\n",
       "    </tr>\n",
       "  </thead>\n",
       "  <tbody>\n",
       "    <tr>\n",
       "      <th>count</th>\n",
       "      <td>437115.000000</td>\n",
       "      <td>437115.000000</td>\n",
       "      <td>437115.000000</td>\n",
       "      <td>396523.000000</td>\n",
       "      <td>437115.000000</td>\n",
       "    </tr>\n",
       "    <tr>\n",
       "      <th>mean</th>\n",
       "      <td>1.085808</td>\n",
       "      <td>161.085055</td>\n",
       "      <td>75.726557</td>\n",
       "      <td>2021.678579</td>\n",
       "      <td>2015.128570</td>\n",
       "    </tr>\n",
       "    <tr>\n",
       "      <th>std</th>\n",
       "      <td>3.418133</td>\n",
       "      <td>533.528174</td>\n",
       "      <td>296.740804</td>\n",
       "      <td>1.471304</td>\n",
       "      <td>5.993034</td>\n",
       "    </tr>\n",
       "    <tr>\n",
       "      <th>min</th>\n",
       "      <td>0.000000</td>\n",
       "      <td>0.000000</td>\n",
       "      <td>0.000000</td>\n",
       "      <td>2004.000000</td>\n",
       "      <td>2003.000000</td>\n",
       "    </tr>\n",
       "    <tr>\n",
       "      <th>25%</th>\n",
       "      <td>0.000000</td>\n",
       "      <td>0.000000</td>\n",
       "      <td>0.000000</td>\n",
       "      <td>2021.000000</td>\n",
       "      <td>2011.000000</td>\n",
       "    </tr>\n",
       "    <tr>\n",
       "      <th>50%</th>\n",
       "      <td>0.000000</td>\n",
       "      <td>7.000000</td>\n",
       "      <td>3.000000</td>\n",
       "      <td>2022.000000</td>\n",
       "      <td>2017.000000</td>\n",
       "    </tr>\n",
       "    <tr>\n",
       "      <th>75%</th>\n",
       "      <td>1.000000</td>\n",
       "      <td>81.000000</td>\n",
       "      <td>33.000000</td>\n",
       "      <td>2023.000000</td>\n",
       "      <td>2020.000000</td>\n",
       "    </tr>\n",
       "    <tr>\n",
       "      <th>max</th>\n",
       "      <td>104.000000</td>\n",
       "      <td>45380.000000</td>\n",
       "      <td>11321.000000</td>\n",
       "      <td>2023.000000</td>\n",
       "      <td>2022.000000</td>\n",
       "    </tr>\n",
       "  </tbody>\n",
       "</table>\n",
       "</div>"
      ],
      "text/plain": [
       "       Patron Type Code  Total Checkouts  Total Renewals  \\\n",
       "count     437115.000000    437115.000000   437115.000000   \n",
       "mean           1.085808       161.085055       75.726557   \n",
       "std            3.418133       533.528174      296.740804   \n",
       "min            0.000000         0.000000        0.000000   \n",
       "25%            0.000000         0.000000        0.000000   \n",
       "50%            0.000000         7.000000        3.000000   \n",
       "75%            1.000000        81.000000       33.000000   \n",
       "max          104.000000     45380.000000    11321.000000   \n",
       "\n",
       "       Circulation Active Year  Year Patron Registered  \n",
       "count            396523.000000           437115.000000  \n",
       "mean               2021.678579             2015.128570  \n",
       "std                   1.471304                5.993034  \n",
       "min                2004.000000             2003.000000  \n",
       "25%                2021.000000             2011.000000  \n",
       "50%                2022.000000             2017.000000  \n",
       "75%                2023.000000             2020.000000  \n",
       "max                2023.000000             2022.000000  "
      ]
     },
     "execution_count": 29,
     "metadata": {},
     "output_type": "execute_result"
    }
   ],
   "source": [
    "s_df.describe()"
   ]
  },
  {
   "cell_type": "code",
   "execution_count": null,
   "id": "dda728f8",
   "metadata": {},
   "outputs": [],
   "source": []
  }
 ],
 "metadata": {
  "kernelspec": {
   "display_name": "Python 3 (ipykernel)",
   "language": "python",
   "name": "python3"
  },
  "language_info": {
   "codemirror_mode": {
    "name": "ipython",
    "version": 3
   },
   "file_extension": ".py",
   "mimetype": "text/x-python",
   "name": "python",
   "nbconvert_exporter": "python",
   "pygments_lexer": "ipython3",
   "version": "3.9.13"
  }
 },
 "nbformat": 4,
 "nbformat_minor": 5
}
