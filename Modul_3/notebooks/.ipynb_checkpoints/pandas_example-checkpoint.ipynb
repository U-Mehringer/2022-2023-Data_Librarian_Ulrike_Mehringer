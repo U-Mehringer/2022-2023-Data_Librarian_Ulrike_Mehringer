{
 "cells": [
  {
   "cell_type": "markdown",
   "id": "13f7bc2b",
   "metadata": {},
   "source": [
    "## Pandas example"
   ]
  },
  {
   "cell_type": "code",
   "execution_count": 1,
   "id": "20f3087e",
   "metadata": {},
   "outputs": [],
   "source": [
    "# pandas importieren\n",
    "import pandas as pd"
   ]
  },
  {
   "cell_type": "code",
   "execution_count": 6,
   "id": "59bcd930",
   "metadata": {},
   "outputs": [],
   "source": [
    "# create dataframe with two columns and three rows\n",
    "df = pd.DataFrame({'month':[1,2,3,4], 'temperature':[-12,3,9,14]})"
   ]
  },
  {
   "cell_type": "code",
   "execution_count": 7,
   "id": "7268b2fa",
   "metadata": {},
   "outputs": [
    {
     "data": {
      "text/html": [
       "<div>\n",
       "<style scoped>\n",
       "    .dataframe tbody tr th:only-of-type {\n",
       "        vertical-align: middle;\n",
       "    }\n",
       "\n",
       "    .dataframe tbody tr th {\n",
       "        vertical-align: top;\n",
       "    }\n",
       "\n",
       "    .dataframe thead th {\n",
       "        text-align: right;\n",
       "    }\n",
       "</style>\n",
       "<table border=\"1\" class=\"dataframe\">\n",
       "  <thead>\n",
       "    <tr style=\"text-align: right;\">\n",
       "      <th></th>\n",
       "      <th>month</th>\n",
       "      <th>temperature</th>\n",
       "    </tr>\n",
       "  </thead>\n",
       "  <tbody>\n",
       "    <tr>\n",
       "      <th>count</th>\n",
       "      <td>4.000000</td>\n",
       "      <td>4.000000</td>\n",
       "    </tr>\n",
       "    <tr>\n",
       "      <th>mean</th>\n",
       "      <td>2.500000</td>\n",
       "      <td>3.500000</td>\n",
       "    </tr>\n",
       "    <tr>\n",
       "      <th>std</th>\n",
       "      <td>1.290994</td>\n",
       "      <td>11.269428</td>\n",
       "    </tr>\n",
       "    <tr>\n",
       "      <th>min</th>\n",
       "      <td>1.000000</td>\n",
       "      <td>-12.000000</td>\n",
       "    </tr>\n",
       "    <tr>\n",
       "      <th>25%</th>\n",
       "      <td>1.750000</td>\n",
       "      <td>-0.750000</td>\n",
       "    </tr>\n",
       "    <tr>\n",
       "      <th>50%</th>\n",
       "      <td>2.500000</td>\n",
       "      <td>6.000000</td>\n",
       "    </tr>\n",
       "    <tr>\n",
       "      <th>75%</th>\n",
       "      <td>3.250000</td>\n",
       "      <td>10.250000</td>\n",
       "    </tr>\n",
       "    <tr>\n",
       "      <th>max</th>\n",
       "      <td>4.000000</td>\n",
       "      <td>14.000000</td>\n",
       "    </tr>\n",
       "  </tbody>\n",
       "</table>\n",
       "</div>"
      ],
      "text/plain": [
       "          month  temperature\n",
       "count  4.000000     4.000000\n",
       "mean   2.500000     3.500000\n",
       "std    1.290994    11.269428\n",
       "min    1.000000   -12.000000\n",
       "25%    1.750000    -0.750000\n",
       "50%    2.500000     6.000000\n",
       "75%    3.250000    10.250000\n",
       "max    4.000000    14.000000"
      ]
     },
     "execution_count": 7,
     "metadata": {},
     "output_type": "execute_result"
    }
   ],
   "source": [
    "# print out some descriptive statistics\n",
    "df.describe()"
   ]
  },
  {
   "cell_type": "markdown",
   "id": "62e2f897",
   "metadata": {},
   "source": [
    "##### count = Anzahl der Zeilen, die Werte enthalten (=nicht NaN)\n",
    "##### mean = Mittelwert, Durchschnitt\n",
    "##### std = Standardabweichung = durchschnittliche Entfernung aller Werte vom Mittelwert\n",
    "##### min = kleinster vorhandener Wert\n",
    "##### max = größter vorhandener Wert\n",
    "##### 25% = lower percentile = 25% der Werte sind kleiner/gleich als die genannte Zahl\n",
    "##### 50% = middle percentile = Median = 50% der Werte sind kleiner/gleich als die genannte Zahl\n",
    "##### 75% = upper percentile = 75% der Werte sind kleiner/gleich als die genannte Zahl\n"
   ]
  },
  {
   "cell_type": "code",
   "execution_count": null,
   "id": "d8c58c53",
   "metadata": {},
   "outputs": [],
   "source": []
  }
 ],
 "metadata": {
  "kernelspec": {
   "display_name": "Python 3 (ipykernel)",
   "language": "python",
   "name": "python3"
  },
  "language_info": {
   "codemirror_mode": {
    "name": "ipython",
    "version": 3
   },
   "file_extension": ".py",
   "mimetype": "text/x-python",
   "name": "python",
   "nbconvert_exporter": "python",
   "pygments_lexer": "ipython3",
   "version": "3.9.13"
  }
 },
 "nbformat": 4,
 "nbformat_minor": 5
}
