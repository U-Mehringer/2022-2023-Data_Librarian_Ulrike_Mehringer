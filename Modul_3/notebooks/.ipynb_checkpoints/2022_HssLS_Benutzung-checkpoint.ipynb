{
 "cells": [
  {
   "cell_type": "markdown",
   "id": "9ce2c1fe",
   "metadata": {},
   "source": [
    "# BesucherInnen im Handschiftenlesesaal der UB Tübingen 2022"
   ]
  },
  {
   "cell_type": "code",
   "execution_count": 27,
   "id": "f588674c",
   "metadata": {},
   "outputs": [],
   "source": [
    "import pandas as pd\n",
    "import datetime\n",
    "#from datetime import date \n",
    "#from datetime import time\n",
    "df = pd.read_excel(\"../data/2022-HssLSBenutzung.xlsx\")"
   ]
  },
  {
   "cell_type": "code",
   "execution_count": 28,
   "id": "c2a87347",
   "metadata": {},
   "outputs": [
    {
     "data": {
      "text/html": [
       "<div>\n",
       "<style scoped>\n",
       "    .dataframe tbody tr th:only-of-type {\n",
       "        vertical-align: middle;\n",
       "    }\n",
       "\n",
       "    .dataframe tbody tr th {\n",
       "        vertical-align: top;\n",
       "    }\n",
       "\n",
       "    .dataframe thead th {\n",
       "        text-align: right;\n",
       "    }\n",
       "</style>\n",
       "<table border=\"1\" class=\"dataframe\">\n",
       "  <thead>\n",
       "    <tr style=\"text-align: right;\">\n",
       "      <th></th>\n",
       "      <th>Kalenderwoche</th>\n",
       "      <th>Datum</th>\n",
       "      <th>Wochentag</th>\n",
       "      <th>Anfang</th>\n",
       "      <th>Ende</th>\n",
       "      <th>Std.</th>\n",
       "      <th>Min.</th>\n",
       "      <th>UB/Archiv</th>\n",
       "      <th>Tage</th>\n",
       "      <th>Besuchsstunden</th>\n",
       "      <th>Anzahl Besucher</th>\n",
       "      <th>Zeit/Besuch</th>\n",
       "      <th>Ende Gelände</th>\n",
       "    </tr>\n",
       "  </thead>\n",
       "  <tbody>\n",
       "    <tr>\n",
       "      <th>0</th>\n",
       "      <td>1</td>\n",
       "      <td>2022-01-03</td>\n",
       "      <td>Montag</td>\n",
       "      <td>10:00:00</td>\n",
       "      <td>11:55:00</td>\n",
       "      <td>1</td>\n",
       "      <td>55</td>\n",
       "      <td>UB/Archiv</td>\n",
       "      <td>1.0</td>\n",
       "      <td>v</td>\n",
       "      <td>NaN</td>\n",
       "      <td>NaN</td>\n",
       "      <td>NaN</td>\n",
       "    </tr>\n",
       "    <tr>\n",
       "      <th>1</th>\n",
       "      <td>1</td>\n",
       "      <td>2022-01-04</td>\n",
       "      <td>Dienstag</td>\n",
       "      <td>10:20:00</td>\n",
       "      <td>11:55:00</td>\n",
       "      <td>1</td>\n",
       "      <td>35</td>\n",
       "      <td>Archiv</td>\n",
       "      <td>1.0</td>\n",
       "      <td>v</td>\n",
       "      <td>NaN</td>\n",
       "      <td>NaN</td>\n",
       "      <td>NaN</td>\n",
       "    </tr>\n",
       "    <tr>\n",
       "      <th>2</th>\n",
       "      <td>1</td>\n",
       "      <td>2022-01-04</td>\n",
       "      <td>Dienstag</td>\n",
       "      <td>10:25:00</td>\n",
       "      <td>11:55:00</td>\n",
       "      <td>1</td>\n",
       "      <td>30</td>\n",
       "      <td>UB/Archiv</td>\n",
       "      <td>NaN</td>\n",
       "      <td>v</td>\n",
       "      <td>NaN</td>\n",
       "      <td>NaN</td>\n",
       "      <td>NaN</td>\n",
       "    </tr>\n",
       "    <tr>\n",
       "      <th>3</th>\n",
       "      <td>1</td>\n",
       "      <td>2022-01-04</td>\n",
       "      <td>Dienstag</td>\n",
       "      <td>13:34:00</td>\n",
       "      <td>15:16:00</td>\n",
       "      <td>1</td>\n",
       "      <td>42</td>\n",
       "      <td>Archiv</td>\n",
       "      <td>NaN</td>\n",
       "      <td>n</td>\n",
       "      <td>NaN</td>\n",
       "      <td>NaN</td>\n",
       "      <td>NaN</td>\n",
       "    </tr>\n",
       "    <tr>\n",
       "      <th>4</th>\n",
       "      <td>1</td>\n",
       "      <td>2022-01-05</td>\n",
       "      <td>Mittwoch</td>\n",
       "      <td>10:05:00</td>\n",
       "      <td>11:55:00</td>\n",
       "      <td>1</td>\n",
       "      <td>50</td>\n",
       "      <td>UB</td>\n",
       "      <td>1.0</td>\n",
       "      <td>v</td>\n",
       "      <td>NaN</td>\n",
       "      <td>NaN</td>\n",
       "      <td>NaN</td>\n",
       "    </tr>\n",
       "    <tr>\n",
       "      <th>...</th>\n",
       "      <td>...</td>\n",
       "      <td>...</td>\n",
       "      <td>...</td>\n",
       "      <td>...</td>\n",
       "      <td>...</td>\n",
       "      <td>...</td>\n",
       "      <td>...</td>\n",
       "      <td>...</td>\n",
       "      <td>...</td>\n",
       "      <td>...</td>\n",
       "      <td>...</td>\n",
       "      <td>...</td>\n",
       "      <td>...</td>\n",
       "    </tr>\n",
       "    <tr>\n",
       "      <th>1191</th>\n",
       "      <td>51</td>\n",
       "      <td>2022-12-22</td>\n",
       "      <td>Donnerstag</td>\n",
       "      <td>11:30:00</td>\n",
       "      <td>12:00:00</td>\n",
       "      <td>0</td>\n",
       "      <td>30</td>\n",
       "      <td>Archiv</td>\n",
       "      <td>NaN</td>\n",
       "      <td>v</td>\n",
       "      <td>NaN</td>\n",
       "      <td>NaN</td>\n",
       "      <td>NaN</td>\n",
       "    </tr>\n",
       "    <tr>\n",
       "      <th>1192</th>\n",
       "      <td>51</td>\n",
       "      <td>2022-12-22</td>\n",
       "      <td>Donnerstag</td>\n",
       "      <td>13:00:00</td>\n",
       "      <td>15:55:00</td>\n",
       "      <td>2</td>\n",
       "      <td>55</td>\n",
       "      <td>Archiv</td>\n",
       "      <td>NaN</td>\n",
       "      <td>n</td>\n",
       "      <td>NaN</td>\n",
       "      <td>NaN</td>\n",
       "      <td>NaN</td>\n",
       "    </tr>\n",
       "    <tr>\n",
       "      <th>1193</th>\n",
       "      <td>51</td>\n",
       "      <td>2022-12-22</td>\n",
       "      <td>Donnerstag</td>\n",
       "      <td>15:30:00</td>\n",
       "      <td>15:55:00</td>\n",
       "      <td>0</td>\n",
       "      <td>25</td>\n",
       "      <td>UB</td>\n",
       "      <td>NaN</td>\n",
       "      <td>n</td>\n",
       "      <td>NaN</td>\n",
       "      <td>NaN</td>\n",
       "      <td>NaN</td>\n",
       "    </tr>\n",
       "    <tr>\n",
       "      <th>1194</th>\n",
       "      <td>51</td>\n",
       "      <td>2022-12-22</td>\n",
       "      <td>Donnerstag</td>\n",
       "      <td>15:55:00</td>\n",
       "      <td>15:56:00</td>\n",
       "      <td>0</td>\n",
       "      <td>1</td>\n",
       "      <td>UB</td>\n",
       "      <td>NaN</td>\n",
       "      <td>n</td>\n",
       "      <td>NaN</td>\n",
       "      <td>NaN</td>\n",
       "      <td>NaN</td>\n",
       "    </tr>\n",
       "    <tr>\n",
       "      <th>1195</th>\n",
       "      <td>51</td>\n",
       "      <td>2022-12-23</td>\n",
       "      <td>Freitag</td>\n",
       "      <td>10:30:00</td>\n",
       "      <td>11:20:00</td>\n",
       "      <td>0</td>\n",
       "      <td>50</td>\n",
       "      <td>Archiv</td>\n",
       "      <td>1.0</td>\n",
       "      <td>v</td>\n",
       "      <td>NaN</td>\n",
       "      <td>NaN</td>\n",
       "      <td>NaN</td>\n",
       "    </tr>\n",
       "  </tbody>\n",
       "</table>\n",
       "<p>1196 rows × 13 columns</p>\n",
       "</div>"
      ],
      "text/plain": [
       "      Kalenderwoche      Datum   Wochentag    Anfang      Ende  Std.  Min.  \\\n",
       "0                 1 2022-01-03      Montag  10:00:00  11:55:00     1    55   \n",
       "1                 1 2022-01-04    Dienstag  10:20:00  11:55:00     1    35   \n",
       "2                 1 2022-01-04    Dienstag  10:25:00  11:55:00     1    30   \n",
       "3                 1 2022-01-04    Dienstag  13:34:00  15:16:00     1    42   \n",
       "4                 1 2022-01-05    Mittwoch  10:05:00  11:55:00     1    50   \n",
       "...             ...        ...         ...       ...       ...   ...   ...   \n",
       "1191             51 2022-12-22  Donnerstag  11:30:00  12:00:00     0    30   \n",
       "1192             51 2022-12-22  Donnerstag  13:00:00  15:55:00     2    55   \n",
       "1193             51 2022-12-22  Donnerstag  15:30:00  15:55:00     0    25   \n",
       "1194             51 2022-12-22  Donnerstag  15:55:00  15:56:00     0     1   \n",
       "1195             51 2022-12-23     Freitag  10:30:00  11:20:00     0    50   \n",
       "\n",
       "      UB/Archiv  Tage Besuchsstunden  Anzahl Besucher  Zeit/Besuch  \\\n",
       "0     UB/Archiv   1.0              v              NaN          NaN   \n",
       "1        Archiv   1.0              v              NaN          NaN   \n",
       "2     UB/Archiv   NaN              v              NaN          NaN   \n",
       "3        Archiv   NaN              n              NaN          NaN   \n",
       "4           UB    1.0              v              NaN          NaN   \n",
       "...         ...   ...            ...              ...          ...   \n",
       "1191     Archiv   NaN              v              NaN          NaN   \n",
       "1192     Archiv   NaN              n              NaN          NaN   \n",
       "1193         UB   NaN              n              NaN          NaN   \n",
       "1194         UB   NaN              n              NaN          NaN   \n",
       "1195     Archiv   1.0              v              NaN          NaN   \n",
       "\n",
       "      Ende Gelände  \n",
       "0              NaN  \n",
       "1              NaN  \n",
       "2              NaN  \n",
       "3              NaN  \n",
       "4              NaN  \n",
       "...            ...  \n",
       "1191           NaN  \n",
       "1192           NaN  \n",
       "1193           NaN  \n",
       "1194           NaN  \n",
       "1195           NaN  \n",
       "\n",
       "[1196 rows x 13 columns]"
      ]
     },
     "execution_count": 28,
     "metadata": {},
     "output_type": "execute_result"
    }
   ],
   "source": [
    "df"
   ]
  },
  {
   "cell_type": "code",
   "execution_count": 29,
   "id": "4d4b46e5",
   "metadata": {},
   "outputs": [],
   "source": [
    "# Spalten Semesterferien und Schulferien ergänzen"
   ]
  },
  {
   "cell_type": "code",
   "execution_count": 30,
   "id": "87878571",
   "metadata": {},
   "outputs": [],
   "source": [
    "# Brückentage kennzeichnen"
   ]
  },
  {
   "cell_type": "code",
   "execution_count": 31,
   "id": "43771252",
   "metadata": {},
   "outputs": [
    {
     "name": "stdout",
     "output_type": "stream",
     "text": [
      "<class 'pandas.core.frame.DataFrame'>\n",
      "RangeIndex: 1196 entries, 0 to 1195\n",
      "Data columns (total 13 columns):\n",
      " #   Column           Non-Null Count  Dtype         \n",
      "---  ------           --------------  -----         \n",
      " 0   Kalenderwoche    1196 non-null   int64         \n",
      " 1   Datum            1196 non-null   datetime64[ns]\n",
      " 2   Wochentag        1196 non-null   object        \n",
      " 3   Anfang           1196 non-null   object        \n",
      " 4   Ende             1196 non-null   object        \n",
      " 5   Std.             1196 non-null   int64         \n",
      " 6   Min.             1196 non-null   int64         \n",
      " 7   UB/Archiv        1196 non-null   object        \n",
      " 8   Tage             238 non-null    float64       \n",
      " 9   Besuchsstunden   1196 non-null   object        \n",
      " 10  Anzahl Besucher  0 non-null      float64       \n",
      " 11  Zeit/Besuch      0 non-null      float64       \n",
      " 12  Ende Gelände     0 non-null      float64       \n",
      "dtypes: datetime64[ns](1), float64(4), int64(3), object(5)\n",
      "memory usage: 121.6+ KB\n"
     ]
    }
   ],
   "source": [
    "df.info()"
   ]
  },
  {
   "cell_type": "code",
   "execution_count": 32,
   "id": "045aaecd",
   "metadata": {},
   "outputs": [],
   "source": [
    "# Anfang und Ende in datetime umwandeln (eventuell verbinden mit Datum)"
   ]
  },
  {
   "cell_type": "code",
   "execution_count": 6,
   "id": "1c0f7c64",
   "metadata": {},
   "outputs": [
    {
     "data": {
      "text/plain": [
       "0    Donnerstag\n",
       "Name: Wochentag, dtype: object"
      ]
     },
     "execution_count": 6,
     "metadata": {},
     "output_type": "execute_result"
    }
   ],
   "source": [
    "df['Wochentag'].mode()"
   ]
  },
  {
   "cell_type": "code",
   "execution_count": 7,
   "id": "e12a3a7b",
   "metadata": {},
   "outputs": [
    {
     "data": {
      "text/plain": [
       "0    29\n",
       "Name: Kalenderwoche, dtype: int64"
      ]
     },
     "execution_count": 7,
     "metadata": {},
     "output_type": "execute_result"
    }
   ],
   "source": [
    "df['Kalenderwoche'].mode()"
   ]
  },
  {
   "cell_type": "code",
   "execution_count": 17,
   "id": "4acc57b7",
   "metadata": {},
   "outputs": [
    {
     "data": {
      "text/plain": [
       "0   2022-07-21\n",
       "Name: Datum, dtype: datetime64[ns]"
      ]
     },
     "execution_count": 17,
     "metadata": {},
     "output_type": "execute_result"
    }
   ],
   "source": [
    "df['Datum'].mode()"
   ]
  },
  {
   "cell_type": "code",
   "execution_count": null,
   "id": "681fc4a4",
   "metadata": {},
   "outputs": [],
   "source": []
  },
  {
   "cell_type": "code",
   "execution_count": null,
   "id": "8df85b27",
   "metadata": {},
   "outputs": [],
   "source": []
  },
  {
   "cell_type": "code",
   "execution_count": null,
   "id": "1c0c25d1",
   "metadata": {},
   "outputs": [],
   "source": []
  }
 ],
 "metadata": {
  "kernelspec": {
   "display_name": "Python 3 (ipykernel)",
   "language": "python",
   "name": "python3"
  },
  "language_info": {
   "codemirror_mode": {
    "name": "ipython",
    "version": 3
   },
   "file_extension": ".py",
   "mimetype": "text/x-python",
   "name": "python",
   "nbconvert_exporter": "python",
   "pygments_lexer": "ipython3",
   "version": "3.9.13"
  }
 },
 "nbformat": 4,
 "nbformat_minor": 5
}
