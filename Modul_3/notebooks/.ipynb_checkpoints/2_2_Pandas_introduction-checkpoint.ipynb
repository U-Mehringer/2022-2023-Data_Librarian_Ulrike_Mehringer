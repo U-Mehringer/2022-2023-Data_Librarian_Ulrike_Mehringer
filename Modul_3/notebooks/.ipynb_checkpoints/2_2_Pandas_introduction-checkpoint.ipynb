{
 "cells": [
  {
   "cell_type": "markdown",
   "id": "eb2a62e2",
   "metadata": {},
   "source": [
    "## 2.2 Pandas introduction"
   ]
  },
  {
   "cell_type": "markdown",
   "id": "6c939404",
   "metadata": {},
   "source": [
    "### Series und Dataframes"
   ]
  },
  {
   "cell_type": "code",
   "execution_count": 2,
   "id": "28df47b8",
   "metadata": {},
   "outputs": [
    {
     "name": "stdout",
     "output_type": "stream",
     "text": [
      "0    34\n",
      "1    12\n",
      "2    23\n",
      "3    45\n",
      "dtype: int64\n"
     ]
    }
   ],
   "source": [
    "import pandas as pd\n",
    "x = pd.Series([34,12,23,45])\n",
    "print(x)"
   ]
  },
  {
   "cell_type": "code",
   "execution_count": 3,
   "id": "7cb6354c",
   "metadata": {},
   "outputs": [
    {
     "data": {
      "text/plain": [
       "dtype('int64')"
      ]
     },
     "execution_count": 3,
     "metadata": {},
     "output_type": "execute_result"
    }
   ],
   "source": [
    "x.dtype"
   ]
  },
  {
   "cell_type": "code",
   "execution_count": 4,
   "id": "1c941520",
   "metadata": {},
   "outputs": [
    {
     "name": "stdout",
     "output_type": "stream",
     "text": [
      "  month  temp  below_zero\n",
      "0   Jan    -5        True\n",
      "1   Feb     2       False\n",
      "2   Mar     3       False\n"
     ]
    }
   ],
   "source": [
    "# dictionary: keys (Spaltenname) und values (Python-Listen)\n",
    "data = {'month':['Jan','Feb','Mar'],'temp':[-5,2,3],'below_zero':[True,False,False]}\n",
    "df = pd.DataFrame(data)\n",
    "print(df)\n"
   ]
  },
  {
   "cell_type": "markdown",
   "id": "7c2a1e66",
   "metadata": {},
   "source": [
    "### Aufgabe 2.2: Skalenniveau und Datentypen\n",
    "\n",
    "Variablenname: Skalenniveau, stetig/diskret, Datentyp\n",
    "\n",
    "month:   nominalskaliert, diskret, object\n",
    "\n",
    "temp:    intervallskaliert, diskret, integer\n",
    "\n",
    "below_zero: nominalskaliert, diskret, boolean"
   ]
  },
  {
   "cell_type": "code",
   "execution_count": 5,
   "id": "0ce50787",
   "metadata": {},
   "outputs": [
    {
     "name": "stdout",
     "output_type": "stream",
     "text": [
      "<class 'pandas.core.series.Series'>\n",
      "RangeIndex: 3 entries, 0 to 2\n",
      "Series name: below_zero\n",
      "Non-Null Count  Dtype\n",
      "--------------  -----\n",
      "3 non-null      bool \n",
      "dtypes: bool(1)\n",
      "memory usage: 131.0 bytes\n"
     ]
    }
   ],
   "source": [
    "df['below_zero'].info()"
   ]
  },
  {
   "cell_type": "code",
   "execution_count": 6,
   "id": "0e9bf8ca",
   "metadata": {},
   "outputs": [],
   "source": [
    "# Dem Dataframe eine neue Zeile und eine neue Spalte hinzufügen\n",
    "\n",
    "df.loc[3] = ['Apr',5,False]\n"
   ]
  },
  {
   "cell_type": "code",
   "execution_count": 7,
   "id": "d31de7d9",
   "metadata": {},
   "outputs": [],
   "source": [
    "df[\"year\"] = ['2020','2020','2020','2020']"
   ]
  },
  {
   "cell_type": "code",
   "execution_count": 8,
   "id": "c94a756e",
   "metadata": {},
   "outputs": [
    {
     "data": {
      "text/html": [
       "<div>\n",
       "<style scoped>\n",
       "    .dataframe tbody tr th:only-of-type {\n",
       "        vertical-align: middle;\n",
       "    }\n",
       "\n",
       "    .dataframe tbody tr th {\n",
       "        vertical-align: top;\n",
       "    }\n",
       "\n",
       "    .dataframe thead th {\n",
       "        text-align: right;\n",
       "    }\n",
       "</style>\n",
       "<table border=\"1\" class=\"dataframe\">\n",
       "  <thead>\n",
       "    <tr style=\"text-align: right;\">\n",
       "      <th></th>\n",
       "      <th>month</th>\n",
       "      <th>temp</th>\n",
       "      <th>below_zero</th>\n",
       "      <th>year</th>\n",
       "    </tr>\n",
       "  </thead>\n",
       "  <tbody>\n",
       "    <tr>\n",
       "      <th>0</th>\n",
       "      <td>Jan</td>\n",
       "      <td>-5</td>\n",
       "      <td>True</td>\n",
       "      <td>2020</td>\n",
       "    </tr>\n",
       "    <tr>\n",
       "      <th>1</th>\n",
       "      <td>Feb</td>\n",
       "      <td>2</td>\n",
       "      <td>False</td>\n",
       "      <td>2020</td>\n",
       "    </tr>\n",
       "    <tr>\n",
       "      <th>2</th>\n",
       "      <td>Mar</td>\n",
       "      <td>3</td>\n",
       "      <td>False</td>\n",
       "      <td>2020</td>\n",
       "    </tr>\n",
       "    <tr>\n",
       "      <th>3</th>\n",
       "      <td>Apr</td>\n",
       "      <td>5</td>\n",
       "      <td>False</td>\n",
       "      <td>2020</td>\n",
       "    </tr>\n",
       "  </tbody>\n",
       "</table>\n",
       "</div>"
      ],
      "text/plain": [
       "  month  temp  below_zero  year\n",
       "0   Jan    -5        True  2020\n",
       "1   Feb     2       False  2020\n",
       "2   Mar     3       False  2020\n",
       "3   Apr     5       False  2020"
      ]
     },
     "execution_count": 8,
     "metadata": {},
     "output_type": "execute_result"
    }
   ],
   "source": [
    "df"
   ]
  },
  {
   "cell_type": "code",
   "execution_count": null,
   "id": "8c80f041",
   "metadata": {},
   "outputs": [],
   "source": []
  }
 ],
 "metadata": {
  "kernelspec": {
   "display_name": "Python 3 (ipykernel)",
   "language": "python",
   "name": "python3"
  },
  "language_info": {
   "codemirror_mode": {
    "name": "ipython",
    "version": 3
   },
   "file_extension": ".py",
   "mimetype": "text/x-python",
   "name": "python",
   "nbconvert_exporter": "python",
   "pygments_lexer": "ipython3",
   "version": "3.9.13"
  }
 },
 "nbformat": 4,
 "nbformat_minor": 5
}
