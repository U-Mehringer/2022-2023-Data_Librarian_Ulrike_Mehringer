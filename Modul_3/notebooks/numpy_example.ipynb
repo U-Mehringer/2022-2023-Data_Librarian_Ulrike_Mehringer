{
 "cells": [
  {
   "cell_type": "markdown",
   "id": "2f798a1c",
   "metadata": {},
   "source": [
    "## Numpy example\n"
   ]
  },
  {
   "cell_type": "code",
   "execution_count": 1,
   "id": "d1b2b793",
   "metadata": {},
   "outputs": [],
   "source": [
    "# numpy importieren\n",
    "import numpy as np"
   ]
  },
  {
   "cell_type": "code",
   "execution_count": 2,
   "id": "aa3042a6",
   "metadata": {},
   "outputs": [],
   "source": [
    "# create 100 randomly distributed numbers\n",
    "x = np.random.normal(size=100)"
   ]
  },
  {
   "cell_type": "code",
   "execution_count": 4,
   "id": "51384009",
   "metadata": {},
   "outputs": [
    {
     "data": {
      "text/plain": [
       "array([[ 0.6182036 , -1.34432769,  0.35476316,  1.89417796, -0.81576685],\n",
       "       [ 1.00190341,  0.07298055,  0.46586351, -1.13489509,  0.08973692],\n",
       "       [ 0.31542113, -0.1177012 , -2.86401723,  1.59863967, -1.72683154],\n",
       "       [-0.10048657,  1.47314984,  0.28860337, -1.18769581,  0.9999523 ],\n",
       "       [-1.41582021,  1.26821446,  1.03767922, -0.57845322, -0.48157677],\n",
       "       [ 0.79089243,  1.09785836, -0.58902386, -0.40717658, -0.11862484],\n",
       "       [-0.32063601, -0.15892873, -0.2762456 ,  0.61985641, -0.29047591],\n",
       "       [-2.05857137,  1.11778529, -1.80811697, -0.02319587,  0.50989849],\n",
       "       [ 1.35178957, -1.57271528, -0.57164665, -1.11053988, -1.91515352],\n",
       "       [-0.68198155,  1.93999227,  0.42662975, -1.29376169,  0.12707231],\n",
       "       [ 0.8347793 , -0.65733611, -1.71857938,  0.9428995 , -1.49756802],\n",
       "       [-0.53834957, -0.43642128, -0.41066174,  0.20325334, -0.92072057],\n",
       "       [ 0.9838212 , -0.27107674,  0.45220858, -1.4921853 ,  2.1775896 ],\n",
       "       [ 0.2132213 , -1.86278996,  1.02140772,  1.44538277, -1.10455779],\n",
       "       [-0.03278313,  0.21780825, -0.04106786, -0.8624863 , -0.69215195],\n",
       "       [-1.54784523, -0.80570518,  0.96973961,  0.27067105, -0.63437581],\n",
       "       [ 0.36321277, -0.48949874, -1.56209987, -0.81364802,  2.09783974],\n",
       "       [-0.87559105,  0.88324965,  1.46382036, -0.45656226,  0.81878556],\n",
       "       [-1.92792868,  0.08052332, -1.38770124,  0.8889643 ,  0.98968175],\n",
       "       [-0.37851069,  0.63355467, -0.20293518, -0.31307466,  0.62984928]])"
      ]
     },
     "execution_count": 4,
     "metadata": {},
     "output_type": "execute_result"
    }
   ],
   "source": [
    "# transform x into 2-dimensional array of size 20 rows x 5 columns\n",
    "x.reshape((20,5))"
   ]
  },
  {
   "cell_type": "code",
   "execution_count": 5,
   "id": "42f3c0f2",
   "metadata": {},
   "outputs": [
    {
     "data": {
      "text/plain": [
       "112.06275602115086"
      ]
     },
     "execution_count": 5,
     "metadata": {},
     "output_type": "execute_result"
    }
   ],
   "source": [
    "# calculate the matrix dot product: x*x, where x is the Transpose (T) of x\n",
    "x.dot(x.T)"
   ]
  },
  {
   "cell_type": "code",
   "execution_count": null,
   "id": "da0f5fed",
   "metadata": {},
   "outputs": [],
   "source": []
  }
 ],
 "metadata": {
  "kernelspec": {
   "display_name": "Python 3 (ipykernel)",
   "language": "python",
   "name": "python3"
  },
  "language_info": {
   "codemirror_mode": {
    "name": "ipython",
    "version": 3
   },
   "file_extension": ".py",
   "mimetype": "text/x-python",
   "name": "python",
   "nbconvert_exporter": "python",
   "pygments_lexer": "ipython3",
   "version": "3.9.13"
  }
 },
 "nbformat": 4,
 "nbformat_minor": 5
}
